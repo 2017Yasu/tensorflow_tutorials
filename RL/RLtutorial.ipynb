{
 "cells": [
  {
   "cell_type": "code",
   "execution_count": 1,
   "id": "touched-heath",
   "metadata": {},
   "outputs": [
    {
     "name": "stdout",
     "output_type": "stream",
     "text": [
      "pygame 2.0.1 (SDL 2.0.14, Python 3.8.7)\n",
      "Hello from the pygame community. https://www.pygame.org/contribute.html\n"
     ]
    }
   ],
   "source": [
    "from __future__ import absolute_import, division, print_function\n",
    "\n",
    "import base64\n",
    "import imageio\n",
    "import IPython\n",
    "import matplotlib\n",
    "import matplotlib.pyplot as plt\n",
    "import numpy as np\n",
    "import PIL.Image\n",
    "import pyvirtualdisplay\n",
    "import pygame\n",
    "\n",
    "import tensorflow as tf\n",
    "\n",
    "from tf_agents.agents.dqn import dqn_agent\n",
    "from tf_agents.drivers import dynamic_step_driver\n",
    "from tf_agents.environments import suite_gym\n",
    "from tf_agents.environments import tf_py_environment\n",
    "from tf_agents.eval import metric_utils\n",
    "from tf_agents.metrics import tf_metrics\n",
    "from tf_agents.networks import q_network\n",
    "from tf_agents.policies import random_tf_policy\n",
    "from tf_agents.replay_buffers import tf_uniform_replay_buffer\n",
    "from tf_agents.trajectories import trajectory\n",
    "from tf_agents.utils import common"
   ]
  },
  {
   "cell_type": "code",
   "execution_count": 2,
   "id": "ranking-laser",
   "metadata": {},
   "outputs": [],
   "source": [
    "# tf.compat.v1.enable_v2_behavior()\n",
    "\n",
    "# # Set up a virtual display for rendering OpenAI gym environments.\n",
    "# display = pyvirtualdisplay.Display(visible=0, size=(1400, 900)).start()"
   ]
  },
  {
   "cell_type": "code",
   "execution_count": 3,
   "id": "attempted-leone",
   "metadata": {},
   "outputs": [
    {
     "data": {
      "text/plain": [
       "'2.4.1'"
      ]
     },
     "execution_count": 3,
     "metadata": {},
     "output_type": "execute_result"
    }
   ],
   "source": [
    "tf.version.VERSION"
   ]
  },
  {
   "cell_type": "code",
   "execution_count": 4,
   "id": "opponent-section",
   "metadata": {},
   "outputs": [],
   "source": [
    "env_name = 'CartPole-v0'\n",
    "env = suite_gym.load(env_name)"
   ]
  },
  {
   "cell_type": "code",
   "execution_count": 5,
   "id": "promising-crystal",
   "metadata": {},
   "outputs": [],
   "source": [
    "# env.reset()\n",
    "# PIL.Image.fromarray(env.render())"
   ]
  },
  {
   "cell_type": "code",
   "execution_count": 6,
   "id": "adjacent-better",
   "metadata": {},
   "outputs": [
    {
     "name": "stdout",
     "output_type": "stream",
     "text": [
      "Observation Spec:\n",
      "BoundedArraySpec(shape=(4,), dtype=dtype('float32'), name='observation', minimum=[-4.8000002e+00 -3.4028235e+38 -4.1887903e-01 -3.4028235e+38], maximum=[4.8000002e+00 3.4028235e+38 4.1887903e-01 3.4028235e+38])\n"
     ]
    }
   ],
   "source": [
    "print('Observation Spec:')\n",
    "print(env.time_step_spec().observation)"
   ]
  },
  {
   "cell_type": "code",
   "execution_count": 7,
   "id": "ordinary-collins",
   "metadata": {},
   "outputs": [
    {
     "name": "stdout",
     "output_type": "stream",
     "text": [
      "Reward Spec:\n",
      "ArraySpec(shape=(), dtype=dtype('float32'), name='reward')\n"
     ]
    }
   ],
   "source": [
    "print('Reward Spec:')\n",
    "print(env.time_step_spec().reward)"
   ]
  },
  {
   "cell_type": "code",
   "execution_count": 8,
   "id": "specific-award",
   "metadata": {},
   "outputs": [
    {
     "name": "stdout",
     "output_type": "stream",
     "text": [
      "Action Spec:\n",
      "BoundedArraySpec(shape=(), dtype=dtype('int64'), name='action', minimum=0, maximum=1)\n"
     ]
    }
   ],
   "source": [
    "print('Action Spec:')\n",
    "print(env.action_spec())"
   ]
  },
  {
   "cell_type": "code",
   "execution_count": 9,
   "id": "resistant-processing",
   "metadata": {},
   "outputs": [
    {
     "name": "stdout",
     "output_type": "stream",
     "text": [
      "Time step:\n",
      "TimeStep(step_type=array(0, dtype=int32), reward=array(0., dtype=float32), discount=array(1., dtype=float32), observation=array([-0.01975903, -0.02244931,  0.01221615,  0.0013026 ], dtype=float32))\n",
      "Next time step:\n",
      "TimeStep(step_type=array(1, dtype=int32), reward=array(1., dtype=float32), discount=array(1., dtype=float32), observation=array([-0.02020801,  0.17249532,  0.0122422 , -0.2875011 ], dtype=float32))\n"
     ]
    }
   ],
   "source": [
    "time_step = env.reset()\n",
    "print('Time step:')\n",
    "print(time_step)\n",
    "\n",
    "action = np.array(1, dtype=np.int32)\n",
    "\n",
    "next_time_step = env.step(action)\n",
    "print('Next time step:')\n",
    "print(next_time_step)"
   ]
  },
  {
   "cell_type": "code",
   "execution_count": 10,
   "id": "taken-while",
   "metadata": {},
   "outputs": [],
   "source": [
    "train_py_env = suite_gym.load(env_name)\n",
    "eval_py_env = suite_gym.load(env_name)"
   ]
  },
  {
   "cell_type": "code",
   "execution_count": 11,
   "id": "equipped-beauty",
   "metadata": {},
   "outputs": [],
   "source": [
    "train_env = tf_py_environment.TFPyEnvironment(train_py_env)\n",
    "eval_env = tf_py_environment.TFPyEnvironment(eval_py_env)"
   ]
  },
  {
   "cell_type": "code",
   "execution_count": 12,
   "id": "coated-writer",
   "metadata": {},
   "outputs": [],
   "source": [
    "fc_layer_params = (100,)\n",
    "\n",
    "q_net = q_network.QNetwork(\n",
    "    train_env.observation_spec(),\n",
    "    train_env.action_spec(),\n",
    "    fc_layer_params=fc_layer_params)"
   ]
  },
  {
   "cell_type": "code",
   "execution_count": 13,
   "id": "artistic-technique",
   "metadata": {},
   "outputs": [],
   "source": [
    "learning_rate = 0.001\n",
    "optimizer = tf.keras.optimizers.Adam(learning_rate=learning_rate)\n",
    "\n",
    "train_step_counter = tf.Variable(0)\n",
    "\n",
    "agent = dqn_agent.DqnAgent(\n",
    "    train_env.time_step_spec(),\n",
    "    train_env.action_spec(),\n",
    "    q_network=q_net,\n",
    "    optimizer=optimizer,\n",
    "    td_errors_loss_fn=common.element_wise_squared_loss,\n",
    "    train_step_counter=train_step_counter)\n",
    "\n",
    "agent.initialize()"
   ]
  },
  {
   "cell_type": "code",
   "execution_count": 14,
   "id": "reserved-allowance",
   "metadata": {},
   "outputs": [],
   "source": [
    "eval_policy = agent.policy\n",
    "collect_policy = agent.collect_policy"
   ]
  },
  {
   "cell_type": "code",
   "execution_count": 15,
   "id": "abroad-realtor",
   "metadata": {},
   "outputs": [],
   "source": [
    "random_policy = random_tf_policy.RandomTFPolicy(train_env.time_step_spec(),\n",
    "                                                train_env.action_spec())"
   ]
  },
  {
   "cell_type": "code",
   "execution_count": 16,
   "id": "elementary-creation",
   "metadata": {},
   "outputs": [],
   "source": [
    "example_environment = tf_py_environment.TFPyEnvironment(\n",
    "    suite_gym.load('CartPole-v0'))"
   ]
  },
  {
   "cell_type": "code",
   "execution_count": 17,
   "id": "bottom-auckland",
   "metadata": {},
   "outputs": [],
   "source": [
    "time_step = example_environment.reset()"
   ]
  },
  {
   "cell_type": "code",
   "execution_count": 18,
   "id": "martial-kitty",
   "metadata": {},
   "outputs": [
    {
     "data": {
      "text/plain": [
       "PolicyStep(action=<tf.Tensor: shape=(1,), dtype=int64, numpy=array([0])>, state=(), info=())"
      ]
     },
     "execution_count": 18,
     "metadata": {},
     "output_type": "execute_result"
    }
   ],
   "source": [
    "random_policy.action(time_step)"
   ]
  },
  {
   "cell_type": "code",
   "execution_count": 19,
   "id": "nasty-category",
   "metadata": {},
   "outputs": [],
   "source": [
    "def compute_avg_return(environment, policy, num_episodes=10):\n",
    "\n",
    "    total_return = 0.0\n",
    "    for _ in range(num_episodes):\n",
    "\n",
    "        time_step = environment.reset()\n",
    "        episode_return = 0.0\n",
    "\n",
    "        while not time_step.is_last():\n",
    "            action_step = policy.action(time_step)\n",
    "            time_step = environment.step(action_step.action)\n",
    "            episode_return += time_step.reward\n",
    "        total_return += episode_return\n",
    "\n",
    "    avg_return = total_return / num_episodes\n",
    "    return avg_return.numpy()[0]\n",
    "\n",
    "\n",
    "# See also the metrics module for standard implementations of different metrics.\n",
    "# https://github.com/tensorflow/agents/tree/master/tf_agents/metrics"
   ]
  },
  {
   "cell_type": "code",
   "execution_count": 20,
   "id": "humanitarian-machine",
   "metadata": {},
   "outputs": [
    {
     "data": {
      "text/plain": [
       "18.2"
      ]
     },
     "execution_count": 20,
     "metadata": {},
     "output_type": "execute_result"
    }
   ],
   "source": [
    "compute_avg_return(eval_env, random_policy)"
   ]
  },
  {
   "cell_type": "code",
   "execution_count": 21,
   "id": "narrative-disorder",
   "metadata": {},
   "outputs": [],
   "source": [
    "replay_buffer = tf_uniform_replay_buffer.TFUniformReplayBuffer(\n",
    "    data_spec=agent.collect_data_spec,\n",
    "    batch_size=train_env.batch_size)"
   ]
  },
  {
   "cell_type": "code",
   "execution_count": 22,
   "id": "noticed-aquarium",
   "metadata": {},
   "outputs": [
    {
     "data": {
      "text/plain": [
       "Trajectory(step_type=TensorSpec(shape=(), dtype=tf.int32, name='step_type'), observation=BoundedTensorSpec(shape=(4,), dtype=tf.float32, name='observation', minimum=array([-4.8000002e+00, -3.4028235e+38, -4.1887903e-01, -3.4028235e+38],\n",
       "      dtype=float32), maximum=array([4.8000002e+00, 3.4028235e+38, 4.1887903e-01, 3.4028235e+38],\n",
       "      dtype=float32)), action=BoundedTensorSpec(shape=(), dtype=tf.int64, name='action', minimum=array(0), maximum=array(1)), policy_info=(), next_step_type=TensorSpec(shape=(), dtype=tf.int32, name='step_type'), reward=TensorSpec(shape=(), dtype=tf.float32, name='reward'), discount=BoundedTensorSpec(shape=(), dtype=tf.float32, name='discount', minimum=array(0., dtype=float32), maximum=array(1., dtype=float32)))"
      ]
     },
     "execution_count": 22,
     "metadata": {},
     "output_type": "execute_result"
    }
   ],
   "source": [
    "agent.collect_data_spec"
   ]
  },
  {
   "cell_type": "code",
   "execution_count": 23,
   "id": "molecular-technology",
   "metadata": {},
   "outputs": [
    {
     "data": {
      "text/plain": [
       "('step_type',\n",
       " 'observation',\n",
       " 'action',\n",
       " 'policy_info',\n",
       " 'next_step_type',\n",
       " 'reward',\n",
       " 'discount')"
      ]
     },
     "execution_count": 23,
     "metadata": {},
     "output_type": "execute_result"
    }
   ],
   "source": [
    "agent.collect_data_spec._fields"
   ]
  },
  {
   "cell_type": "code",
   "execution_count": 24,
   "id": "static-judge",
   "metadata": {},
   "outputs": [],
   "source": [
    "def collect_step(environment, policy, buffer):\n",
    "    time_step = environment.current_time_step()\n",
    "    action_step = policy.action(time_step)\n",
    "    next_time_step = environment.step(action_step.action)\n",
    "    traj = trajectory.from_transition(time_step, action_step, next_time_step)\n",
    "\n",
    "    # Add trajectory to the replay buffer\n",
    "    buffer.add_batch(traj)\n",
    "\n",
    "def collect_data(env, policy, buffer, steps):\n",
    "    for _ in range(steps):\n",
    "        collect_step(env, policy, buffer)\n",
    "\n",
    "collect_data(train_env, random_policy, replay_buffer, steps=100)\n",
    "\n",
    "# This loop is so common in RL, that we provide standard implementations. \n",
    "# For more details see the drivers module.\n",
    "# https://www.tensorflow.org/agents/api_docs/python/tf_agents/drivers"
   ]
  },
  {
   "cell_type": "code",
   "execution_count": 25,
   "id": "swiss-basement",
   "metadata": {},
   "outputs": [
    {
     "name": "stdout",
     "output_type": "stream",
     "text": [
      "WARNING:tensorflow:From /Users/nakayamayasuaki/python_env/dl_env/lib/python3.8/site-packages/tensorflow/python/autograph/operators/control_flow.py:1218: ReplayBuffer.get_next (from tf_agents.replay_buffers.replay_buffer) is deprecated and will be removed in a future version.\n",
      "Instructions for updating:\n",
      "Use `as_dataset(..., single_deterministic_pass=False) instead.\n"
     ]
    },
    {
     "data": {
      "text/plain": [
       "<PrefetchDataset shapes: (Trajectory(step_type=(1, 2), observation=(1, 2, 4), action=(1, 2), policy_info=(), next_step_type=(1, 2), reward=(1, 2), discount=(1, 2)), BufferInfo(ids=(1, 2), probabilities=(1,))), types: (Trajectory(step_type=tf.int32, observation=tf.float32, action=tf.int64, policy_info=(), next_step_type=tf.int32, reward=tf.float32, discount=tf.float32), BufferInfo(ids=tf.int64, probabilities=tf.float32))>"
      ]
     },
     "execution_count": 25,
     "metadata": {},
     "output_type": "execute_result"
    }
   ],
   "source": [
    "# Dataset generates trajectories with shape [Bx2x...]\n",
    "dataset = replay_buffer.as_dataset(\n",
    "    num_parallel_calls=3, \n",
    "    sample_batch_size=train_env.batch_size, \n",
    "    num_steps=2).prefetch(3)\n",
    "\n",
    "\n",
    "dataset"
   ]
  },
  {
   "cell_type": "code",
   "execution_count": 26,
   "id": "olive-source",
   "metadata": {},
   "outputs": [
    {
     "name": "stdout",
     "output_type": "stream",
     "text": [
      "<tensorflow.python.data.ops.iterator_ops.OwnedIterator object at 0x171cf3880>\n"
     ]
    }
   ],
   "source": [
    "iterator = iter(dataset)\n",
    "\n",
    "print(iterator)"
   ]
  },
  {
   "cell_type": "code",
   "execution_count": 27,
   "id": "massive-skiing",
   "metadata": {},
   "outputs": [],
   "source": [
    "num_iterations = 20000\n",
    "collect_steps_per_iteration = 10\n",
    "log_interval = 200\n",
    "eval_interval = 1000"
   ]
  },
  {
   "cell_type": "code",
   "execution_count": 28,
   "id": "sacred-public",
   "metadata": {
    "scrolled": true
   },
   "outputs": [
    {
     "name": "stdout",
     "output_type": "stream",
     "text": [
      "WARNING:tensorflow:From /Users/nakayamayasuaki/python_env/dl_env/lib/python3.8/site-packages/tensorflow/python/util/dispatch.py:201: calling foldr_v2 (from tensorflow.python.ops.functional_ops) with back_prop=False is deprecated and will be removed in a future version.\n",
      "Instructions for updating:\n",
      "back_prop=False is deprecated. Consider using tf.stop_gradient instead.\n",
      "Instead of:\n",
      "results = tf.foldr(fn, elems, back_prop=False)\n",
      "Use:\n",
      "results = tf.nest.map_structure(tf.stop_gradient, tf.foldr(fn, elems))\n",
      "step = 200: loss = 4.671785354614258\n",
      "step = 400: loss = 91.51324462890625\n",
      "step = 600: loss = 0.0\n",
      "step = 800: loss = 1.5278635025024414\n",
      "step = 1000: loss = 0.7873495221138\n",
      "step = 1000: Average Return = 9.800000190734863\n",
      "step = 1200: loss = 41.55705261230469\n",
      "step = 1400: loss = 0.025259295478463173\n",
      "step = 1600: loss = 15.028080940246582\n",
      "step = 1800: loss = 0.017977427691221237\n",
      "step = 2000: loss = 0.5825831294059753\n",
      "step = 2000: Average Return = 11.0\n",
      "step = 2200: loss = 1.7058159112930298\n",
      "step = 2400: loss = 0.0\n",
      "step = 2600: loss = 0.27495208382606506\n",
      "step = 2800: loss = 0.19067969918251038\n",
      "step = 3000: loss = 0.05750562995672226\n",
      "step = 3000: Average Return = 12.399999618530273\n",
      "step = 3200: loss = 0.1932741403579712\n",
      "step = 3400: loss = 0.027505168691277504\n",
      "step = 3600: loss = 0.0\n",
      "step = 3800: loss = 0.0337262786924839\n",
      "step = 4000: loss = 0.25836870074272156\n",
      "step = 4000: Average Return = 16.100000381469727\n",
      "step = 4200: loss = 0.2781055271625519\n",
      "step = 4400: loss = 1.1126635074615479\n",
      "step = 4600: loss = 57.89120864868164\n",
      "step = 4800: loss = 0.7060953974723816\n",
      "step = 5000: loss = 0.013040686026215553\n",
      "step = 5000: Average Return = 93.9000015258789\n",
      "step = 5200: loss = 18.032520294189453\n",
      "step = 5400: loss = 6.910396099090576\n",
      "step = 5600: loss = 0.2004169523715973\n",
      "step = 5800: loss = 0.5171527862548828\n",
      "step = 6000: loss = 0.40773123502731323\n",
      "step = 6000: Average Return = 11.0\n",
      "step = 6200: loss = 8.915199279785156\n",
      "step = 6400: loss = 0.005358133465051651\n",
      "step = 6600: loss = 2.034228563308716\n",
      "step = 6800: loss = 2.3291330337524414\n",
      "step = 7000: loss = 86.54602813720703\n",
      "step = 7000: Average Return = 9.0\n",
      "step = 7200: loss = 0.0\n",
      "step = 7400: loss = 0.15109288692474365\n",
      "step = 7600: loss = 0.08957489579916\n",
      "step = 7800: loss = 0.16337770223617554\n",
      "step = 8000: loss = 1.0467079877853394\n",
      "step = 8000: Average Return = 42.29999923706055\n",
      "step = 8200: loss = 2.5018997192382812\n",
      "step = 8400: loss = 2.5684127807617188\n",
      "step = 8600: loss = 0.21792247891426086\n",
      "step = 8800: loss = 1.4924499988555908\n",
      "step = 9000: loss = 0.2168215662240982\n",
      "step = 9000: Average Return = 47.70000076293945\n",
      "step = 9200: loss = 2.485562562942505\n",
      "step = 9400: loss = 0.009572166018188\n",
      "step = 9600: loss = 0.1232544481754303\n",
      "step = 9800: loss = 2.865818977355957\n",
      "step = 10000: loss = 1.0832092761993408\n",
      "step = 10000: Average Return = 9.0\n",
      "step = 10200: loss = 0.0\n",
      "step = 10400: loss = 3.1630403995513916\n",
      "step = 10600: loss = 0.31446945667266846\n",
      "step = 10800: loss = 0.3615333139896393\n",
      "step = 11000: loss = 0.4697653353214264\n",
      "step = 11000: Average Return = 15.0\n",
      "step = 11200: loss = 0.0\n",
      "step = 11400: loss = 11.536831855773926\n",
      "step = 11600: loss = 4.188557147979736\n",
      "step = 11800: loss = 1.501415729522705\n",
      "step = 12000: loss = 1.9353446960449219\n",
      "step = 12000: Average Return = 42.599998474121094\n",
      "step = 12200: loss = 0.18328644335269928\n",
      "step = 12400: loss = 1.0353798866271973\n",
      "step = 12600: loss = 1.5138561725616455\n",
      "step = 12800: loss = 0.48804837465286255\n",
      "step = 13000: loss = 0.7797418832778931\n",
      "step = 13000: Average Return = 36.29999923706055\n",
      "step = 13200: loss = 2.598148822784424\n",
      "step = 13400: loss = 2.041738271713257\n",
      "step = 13600: loss = 1.1735504865646362\n",
      "step = 13800: loss = 0.1672360748052597\n",
      "step = 14000: loss = 0.0\n",
      "step = 14000: Average Return = 36.599998474121094\n",
      "step = 14200: loss = 1.7490925788879395\n",
      "step = 14400: loss = 0.02718503400683403\n",
      "step = 14600: loss = 0.005019775126129389\n",
      "step = 14800: loss = 0.7134823799133301\n",
      "step = 15000: loss = 2.308882474899292\n",
      "step = 15000: Average Return = 37.29999923706055\n",
      "step = 15200: loss = 0.6448939442634583\n",
      "step = 15400: loss = 0.0676179751753807\n",
      "step = 15600: loss = 0.2540753185749054\n",
      "step = 15800: loss = 0.4250200092792511\n",
      "step = 16000: loss = 0.04107709974050522\n",
      "step = 16000: Average Return = 48.20000076293945\n",
      "step = 16200: loss = 5.992974758148193\n",
      "step = 16400: loss = 7.652037143707275\n",
      "step = 16600: loss = 0.3938407003879547\n",
      "step = 16800: loss = 0.0013582018436864018\n",
      "step = 17000: loss = 0.07305070012807846\n",
      "step = 17000: Average Return = 50.70000076293945\n",
      "step = 17200: loss = 0.04343404248356819\n",
      "step = 17400: loss = 4.265196323394775\n",
      "step = 17600: loss = 0.0\n",
      "step = 17800: loss = 0.08986112475395203\n",
      "step = 18000: loss = 0.26142874360084534\n",
      "step = 18000: Average Return = 23.200000762939453\n",
      "step = 18200: loss = 2.460331439971924\n",
      "step = 18400: loss = 0.06477287411689758\n",
      "step = 18600: loss = 1.615673542022705\n",
      "step = 18800: loss = 1.8106294870376587\n",
      "step = 19000: loss = 0.3467016816139221\n",
      "step = 19000: Average Return = 46.79999923706055\n",
      "step = 19200: loss = 0.1354549080133438\n",
      "step = 19400: loss = 0.38536423444747925\n",
      "step = 19600: loss = 1.197991967201233\n",
      "step = 19800: loss = 0.7748316526412964\n",
      "step = 20000: loss = 0.051836539059877396\n",
      "step = 20000: Average Return = 28.0\n"
     ]
    }
   ],
   "source": [
    "try:\n",
    "    %%time\n",
    "except:\n",
    "    pass\n",
    "\n",
    "# (Optional) Optimize by wrapping some of the code in a graph using TF function.\n",
    "agent.train = common.function(agent.train)\n",
    "\n",
    "# Reset the train step\n",
    "agent.train_step_counter.assign(0)\n",
    "\n",
    "# Evaluate the agent's policy once before training.\n",
    "avg_return = compute_avg_return(eval_env, agent.policy)\n",
    "returns = [avg_return]\n",
    "\n",
    "for _ in range(num_iterations):\n",
    "\n",
    "    # Collect a few steps using collect_policy and save to the replay buffer.\n",
    "    for _ in range(collect_steps_per_iteration):\n",
    "        collect_step(train_env, agent.collect_policy, replay_buffer)\n",
    "\n",
    "    # Sample a batch of data from the buffer and update the agent's network.\n",
    "    experience, unused_info = next(iterator)\n",
    "    train_loss = agent.train(experience).loss\n",
    "\n",
    "    step = agent.train_step_counter.numpy()\n",
    "\n",
    "    if step % log_interval == 0:\n",
    "        print('step = {0}: loss = {1}'.format(step, train_loss))\n",
    "\n",
    "    if step % eval_interval == 0:\n",
    "        avg_return = compute_avg_return(eval_env, agent.policy)\n",
    "        print('step = {0}: Average Return = {1}'.format(step, avg_return))\n",
    "        returns.append(avg_return)"
   ]
  },
  {
   "cell_type": "code",
   "execution_count": 29,
   "id": "configured-guarantee",
   "metadata": {},
   "outputs": [
    {
     "data": {
      "text/plain": [
       "Text(0.5, 0, 'Iterations')"
      ]
     },
     "execution_count": 29,
     "metadata": {},
     "output_type": "execute_result"
    },
    {
     "data": {
      "image/png": "[encoded data removed]",
      "text/plain": [
       "<Figure size 432x288 with 1 Axes>"
      ]
     },
     "metadata": {
      "needs_background": "light"
     },
     "output_type": "display_data"
    }
   ],
   "source": [
    "iterations = range(0, num_iterations + 1, eval_interval)\n",
    "plt.plot(iterations, returns)\n",
    "plt.ylabel('Average Return')\n",
    "plt.xlabel('Iterations')\n",
    "#plt.ylim(top=250)"
   ]
  },
  {
   "cell_type": "code",
   "execution_count": null,
   "id": "fiscal-sapphire",
   "metadata": {},
   "outputs": [],
   "source": []
  }
 ],
 "metadata": {
  "kernelspec": {
   "display_name": "dl_env",
   "language": "python",
   "name": "dl_env"
  },
  "language_info": {
   "codemirror_mode": {
    "name": "ipython",
    "version": 3
   },
   "file_extension": ".py",
   "mimetype": "text/x-python",
   "name": "python",
   "nbconvert_exporter": "python",
   "pygments_lexer": "ipython3",
   "version": "3.8.7"
  }
 },
 "nbformat": 4,
 "nbformat_minor": 5
}

{
 "cells": [
  {
   "cell_type": "markdown",
   "id": "confused-brave",
   "metadata": {},
   "source": [
    "# [過学習と学習不足について知る](https://www.tensorflow.org/tutorials/keras/overfit_and_underfit)"
   ]
  },
  {
   "cell_type": "markdown",
   "id": "improved-fairy",
   "metadata": {},
   "source": [
    "- 過学習（overfitting）\n",
    "- 学習不足（underfitting）\n",
    "\n",
    "解決策：\n",
    "- より多くの訓練用データを使う\n",
    "- モデルに保存される情報の量とタイプに制約を課す（正則化）"
   ]
  },
  {
   "cell_type": "code",
   "execution_count": 1,
   "id": "coastal-mileage",
   "metadata": {},
   "outputs": [
    {
     "name": "stdout",
     "output_type": "stream",
     "text": [
      "2.4.1\n"
     ]
    }
   ],
   "source": [
    "import tensorflow as tf\n",
    "\n",
    "from tensorflow.keras import layers\n",
    "from tensorflow.keras import regularizers\n",
    "\n",
    "print(tf.__version__)"
   ]
  },
  {
   "cell_type": "code",
   "execution_count": 2,
   "id": "egyptian-revision",
   "metadata": {},
   "outputs": [],
   "source": [
    "import tensorflow_docs as tfdocs\n",
    "import tensorflow_docs.modeling\n",
    "import tensorflow_docs.plots"
   ]
  },
  {
   "cell_type": "code",
   "execution_count": 3,
   "id": "numerous-potato",
   "metadata": {},
   "outputs": [],
   "source": [
    "from  IPython import display\n",
    "from matplotlib import pyplot as plt\n",
    "\n",
    "import numpy as np\n",
    "\n",
    "import pathlib\n",
    "import shutil\n",
    "import tempfile"
   ]
  },
  {
   "cell_type": "code",
   "execution_count": 4,
   "id": "purple-compact",
   "metadata": {},
   "outputs": [],
   "source": [
    "logdir = pathlib.Path(tempfile.mkdtemp())/\"tensorboard_logs\"\n",
    "shutil.rmtree(logdir, ignore_errors=True)"
   ]
  },
  {
   "cell_type": "markdown",
   "id": "hundred-completion",
   "metadata": {},
   "source": [
    "ヒッグス粒子に関するデータセットを利用する。11,000,000個の例があり、それぞれ28個の特徴量とバイナリーのラベルを持つ。"
   ]
  },
  {
   "cell_type": "code",
   "execution_count": 5,
   "id": "baking-carrier",
   "metadata": {},
   "outputs": [],
   "source": [
    "gz = tf.keras.utils.get_file('HIGGS.csv.gz', 'http://mlphysics.ics.uci.edu/data/higgs/HIGGS.csv.gz')"
   ]
  },
  {
   "cell_type": "code",
   "execution_count": 6,
   "id": "immune-lindsay",
   "metadata": {},
   "outputs": [],
   "source": [
    "FEATURES = 28"
   ]
  },
  {
   "cell_type": "markdown",
   "id": "conscious-extra",
   "metadata": {},
   "source": [
    "`tf.data.experimental.CsvDataset`クラスはgzipファイルから解凍することなく直接csvレコードを読み取ることができる。"
   ]
  },
  {
   "cell_type": "code",
   "execution_count": 7,
   "id": "lesser-significance",
   "metadata": {},
   "outputs": [],
   "source": [
    "ds = tf.data.experimental.CsvDataset(gz,[float(),]*(FEATURES+1), compression_type=\"GZIP\")"
   ]
  },
  {
   "cell_type": "markdown",
   "id": "exciting-paradise",
   "metadata": {},
   "source": [
    "この操作により、それぞれのレコードについてスカラーのリストを得ることができる。次の操作により、ことリストを`(feature_vector, label)`のペアに変換（repack）する。\n",
    "\n",
    "TensorFlowはデータのバッチを処理するのに適しているので、それぞれの行を変換するのではなく、10000個の例を含むバッチを受け取る新しい`Dataset`を作り、`pack_row`関数をそれぞれのバッチに適用、そしてバッチをレコードに戻していく。"
   ]
  },
  {
   "cell_type": "code",
   "execution_count": 8,
   "id": "competent-holocaust",
   "metadata": {},
   "outputs": [],
   "source": [
    "def pack_row(*row):\n",
    "    label = row[0]\n",
    "    features = tf.stack(row[1:], 1)\n",
    "    return features, label"
   ]
  },
  {
   "cell_type": "code",
   "execution_count": 9,
   "id": "north-philosophy",
   "metadata": {},
   "outputs": [],
   "source": [
    "packed_ds = ds.batch(10000).map(pack_row).unbatch()"
   ]
  },
  {
   "cell_type": "code",
   "execution_count": 10,
   "id": "actual-chile",
   "metadata": {},
   "outputs": [
    {
     "name": "stdout",
     "output_type": "stream",
     "text": [
      "tf.Tensor(\n",
      "[ 0.8692932  -0.6350818   0.22569026  0.32747006 -0.6899932   0.75420225\n",
      " -0.24857314 -1.0920639   0.          1.3749921  -0.6536742   0.9303491\n",
      "  1.1074361   1.1389043  -1.5781983  -1.0469854   0.          0.65792954\n",
      " -0.01045457 -0.04576717  3.1019614   1.35376     0.9795631   0.97807616\n",
      "  0.92000484  0.72165745  0.98875093  0.87667835], shape=(28,), dtype=float32)\n"
     ]
    },
    {
     "data": {
      "image/png": "[encoded data removed]",
      "text/plain": [
       "<Figure size 432x288 with 1 Axes>"
      ]
     },
     "metadata": {
      "needs_background": "light"
     },
     "output_type": "display_data"
    }
   ],
   "source": [
    "for features,label in packed_ds.batch(1000).take(1):\n",
    "    print(features[0])\n",
    "    plt.hist(features.numpy().flatten(), bins = 101)"
   ]
  },
  {
   "cell_type": "markdown",
   "id": "exterior-travel",
   "metadata": {},
   "source": [
    "ここでは、1000サンプルを検証用に、次の10000サンプルを学習用に利用する。"
   ]
  },
  {
   "cell_type": "code",
   "execution_count": 11,
   "id": "major-eating",
   "metadata": {},
   "outputs": [],
   "source": [
    "N_VALIDATION = int(1e3)\n",
    "N_TRAIN = int(1e4)\n",
    "BUFFER_SIZE = int(1e4)\n",
    "BATCH_SIZE = 500\n",
    "STEPS_PER_EPOCH = N_TRAIN // BATCH_SIZE"
   ]
  },
  {
   "cell_type": "markdown",
   "id": "guilty-brave",
   "metadata": {},
   "source": [
    "`Dataset.cache`メソッドによって、各エポックでファイルを再読み取りする必要がないようにする。"
   ]
  },
  {
   "cell_type": "code",
   "execution_count": 12,
   "id": "developing-deposit",
   "metadata": {},
   "outputs": [
    {
     "data": {
      "text/plain": [
       "<CacheDataset shapes: ((28,), ()), types: (tf.float32, tf.float32)>"
      ]
     },
     "execution_count": 12,
     "metadata": {},
     "output_type": "execute_result"
    }
   ],
   "source": [
    "validate_ds = packed_ds.take(N_VALIDATION).cache()\n",
    "train_ds = packed_ds.skip(N_VALIDATION).take(N_TRAIN).cache()\n",
    "\n",
    "train_ds"
   ]
  },
  {
   "cell_type": "markdown",
   "id": "acknowledged-linux",
   "metadata": {},
   "source": [
    "バッチを作成する。学習用データはバッチを作成する前に、`.shuffle`と`.repeat`をしておく。"
   ]
  },
  {
   "cell_type": "code",
   "execution_count": 13,
   "id": "single-player",
   "metadata": {},
   "outputs": [],
   "source": [
    "validate_ds = validate_ds.batch(BATCH_SIZE)\n",
    "train_ds = train_ds.shuffle(BUFFER_SIZE).repeat().batch(BATCH_SIZE)"
   ]
  },
  {
   "cell_type": "markdown",
   "id": "mighty-permission",
   "metadata": {},
   "source": [
    "もっとも簡単な過学習回避方法はモデルを小さくすること。\n",
    "\n",
    "- 大きいモデル：記憶能力が高く簡単に学習することができるが、新しいデータに対する耐性が弱い\n",
    "- 小さいモデル：汎用化し易いが、そもそも学習できないことがある\n",
    "\n",
    "ちょうど良いモデルのサイズを決めることは難しく、実験によってベストな構造を探すしかない。より良いモデルサイズを見つけるには、少ない層とパラメータから始めて、層の数を増やすか、新しい層を挿入することで損失を小さくしていく方法が効果的である。\n",
    "\n",
    "次の例では、`layers.Dense`層のみを持つ簡単なモデルから始める。"
   ]
  },
  {
   "cell_type": "markdown",
   "id": "preliminary-harassment",
   "metadata": {},
   "source": [
    "多くのモデルは学習率（learning rate）を徐々に小さくするとうまく学習できる。`optimizers.schedules`を使う。"
   ]
  },
  {
   "cell_type": "code",
   "execution_count": 14,
   "id": "overall-flexibility",
   "metadata": {},
   "outputs": [],
   "source": [
    "lr_schedule = tf.keras.optimizers.schedules.InverseTimeDecay(\n",
    "    0.001,\n",
    "    decay_steps=STEPS_PER_EPOCH * 1000,\n",
    "    decay_rate=1,\n",
    "    staircase=False\n",
    ")\n",
    "\n",
    "def get_optimizer():\n",
    "    return tf.keras.optimizers.Adam(lr_schedule)"
   ]
  },
  {
   "cell_type": "markdown",
   "id": "realistic-recall",
   "metadata": {},
   "source": [
    "これにより、`schedule.InverseTimeDecay`は双曲線的に学習率を下げていく（1000エポックで始めの1/2、2000エポックで始めの1/3、、、）"
   ]
  },
  {
   "cell_type": "code",
   "execution_count": 15,
   "id": "reserved-maximum",
   "metadata": {},
   "outputs": [
    {
     "data": {
      "image/png": "[encoded data removed]",
      "text/plain": [
       "<Figure size 576x432 with 1 Axes>"
      ]
     },
     "metadata": {
      "needs_background": "light"
     },
     "output_type": "display_data"
    }
   ],
   "source": [
    "step = np.linspace(0,100000)\n",
    "lr = lr_schedule(step)\n",
    "plt.figure(figsize = (8,6))\n",
    "plt.plot(step/STEPS_PER_EPOCH, lr)\n",
    "plt.ylim([0,max(plt.ylim())])\n",
    "plt.xlabel('Epoch')\n",
    "_ = plt.ylabel('Learning Rate')"
   ]
  },
  {
   "cell_type": "markdown",
   "id": "funded-sheep",
   "metadata": {},
   "source": [
    "この実験では、多くの短いエポックで学習を行う。ノイズを避けるために、`tfdocs.EpochDots`を使って、全ての評価を100エポックずつ実行する。\n",
    "\n",
    "次に、`callbacks.EarlyStopping`を使って長く不必要なステップを避ける。このコールバックでは`val_loss`ではなく`val_binary_crossentropy`を観察する（この違いは結構大事）。\n",
    "\n",
    "学習のログを`callbacks.TensorBoard`で出力する。"
   ]
  },
  {
   "cell_type": "markdown",
   "id": "missing-journal",
   "metadata": {},
   "source": [
    "```\n",
    "tf.keras.callbacks.EarlyStopping(\n",
    "    monitor='val_loss', min_delta=0, patience=0, verbose=0,\n",
    "    mode='auto', baseline=None, restore_best_weights=False\n",
    ")\n",
    "```\n",
    "`monitor`に設定された評価値を観察して学習を停止する。変化量が`min_delta`以下のステップが`patience`回続いたら止める。"
   ]
  },
  {
   "cell_type": "code",
   "execution_count": 16,
   "id": "interstate-attraction",
   "metadata": {},
   "outputs": [],
   "source": [
    "def get_callbacks(name):\n",
    "    return [\n",
    "        tfdocs.modeling.EpochDots(),\n",
    "        tf.keras.callbacks.EarlyStopping(monitor='val_binary_crossentropy', patience=200),\n",
    "        tf.keras.callbacks.TensorBoard(logdir / name),\n",
    "    ]"
   ]
  },
  {
   "cell_type": "code",
   "execution_count": 17,
   "id": "solved-wisdom",
   "metadata": {},
   "outputs": [],
   "source": [
    "def compile_and_fit(model, name, optimizer=None, max_epochs=10000):\n",
    "    if optimizer is None:\n",
    "        optimizer = get_optimizer()\n",
    "        \n",
    "    model.compile(\n",
    "        optimizer=optimizer,\n",
    "        loss=tf.keras.losses.BinaryCrossentropy(from_logits=True),\n",
    "        metrics=[\n",
    "            tf.keras.losses.BinaryCrossentropy(from_logits=True, name='binary_crossentropy'),\n",
    "            'accuracy'\n",
    "        ]\n",
    "    )\n",
    "    \n",
    "    model.summary()\n",
    "    \n",
    "    history = model.fit(\n",
    "        train_ds,\n",
    "        steps_per_epoch = STEPS_PER_EPOCH,\n",
    "        epochs=max_epochs,\n",
    "        validation_data=validate_ds,\n",
    "        callbacks=get_callbacks(name),\n",
    "        verbose=0\n",
    "    )\n",
    "    \n",
    "    return history"
   ]
  },
  {
   "cell_type": "markdown",
   "id": "muslim-turkish",
   "metadata": {},
   "source": [
    "小さいモデルから始める。"
   ]
  },
  {
   "cell_type": "markdown",
   "id": "compound-balloon",
   "metadata": {},
   "source": [
    "ELU (Exponential Linear Unit):\n",
    "$$\n",
    "    f(x) =\n",
    "        \\begin{cases}\n",
    "            \\alpha (e^x - 1), \\quad x \\leq 0 \\\\\n",
    "            x, \\quad x > 0 \\\\\n",
    "        \\end{cases} (\\alpha > 0)\n",
    "$$"
   ]
  },
  {
   "cell_type": "code",
   "execution_count": 18,
   "id": "heated-celebrity",
   "metadata": {},
   "outputs": [],
   "source": [
    "tiny_model = tf.keras.Sequential([\n",
    "    layers.Dense(16, activation='elu', input_shape=(FEATURES,)),\n",
    "    layers.Dense(1)\n",
    "])"
   ]
  },
  {
   "cell_type": "code",
   "execution_count": 19,
   "id": "future-beauty",
   "metadata": {},
   "outputs": [],
   "source": [
    "size_histories = {}"
   ]
  },
  {
   "cell_type": "code",
   "execution_count": 20,
   "id": "hindu-queens",
   "metadata": {},
   "outputs": [
    {
     "name": "stdout",
     "output_type": "stream",
     "text": [
      "Model: \"sequential\"\n",
      "_________________________________________________________________\n",
      "Layer (type)                 Output Shape              Param #   \n",
      "=================================================================\n",
      "dense (Dense)                (None, 16)                464       \n",
      "_________________________________________________________________\n",
      "dense_1 (Dense)              (None, 1)                 17        \n",
      "=================================================================\n",
      "Total params: 481\n",
      "Trainable params: 481\n",
      "Non-trainable params: 0\n",
      "_________________________________________________________________\n",
      "WARNING:tensorflow:Callback method `on_train_batch_end` is slow compared to the batch time (batch time: 0.0018s vs `on_train_batch_end` time: 0.0126s). Check your callbacks.\n",
      "\n",
      "Epoch: 0, accuracy:0.4916,  binary_crossentropy:0.8806,  loss:0.8806,  val_accuracy:0.4800,  val_binary_crossentropy:0.8507,  val_loss:0.8507,  \n",
      "....................................................................................................\n",
      "Epoch: 100, accuracy:0.5985,  binary_crossentropy:0.6274,  loss:0.6274,  val_accuracy:0.5820,  val_binary_crossentropy:0.6276,  val_loss:0.6276,  \n",
      "....................................................................................................\n",
      "Epoch: 200, accuracy:0.6252,  binary_crossentropy:0.6130,  loss:0.6130,  val_accuracy:0.6040,  val_binary_crossentropy:0.6113,  val_loss:0.6113,  \n",
      "....................................................................................................\n",
      "Epoch: 300, accuracy:0.6411,  binary_crossentropy:0.6019,  loss:0.6019,  val_accuracy:0.6630,  val_binary_crossentropy:0.5962,  val_loss:0.5962,  \n",
      "....................................................................................................\n",
      "Epoch: 400, accuracy:0.6573,  binary_crossentropy:0.5918,  loss:0.5918,  val_accuracy:0.6320,  val_binary_crossentropy:0.5917,  val_loss:0.5917,  \n",
      "....................................................................................................\n",
      "Epoch: 500, accuracy:0.6616,  binary_crossentropy:0.5864,  loss:0.5864,  val_accuracy:0.6790,  val_binary_crossentropy:0.5859,  val_loss:0.5859,  \n",
      "....................................................................................................\n",
      "Epoch: 600, accuracy:0.6707,  binary_crossentropy:0.5826,  loss:0.5826,  val_accuracy:0.6680,  val_binary_crossentropy:0.5858,  val_loss:0.5858,  \n",
      "....................................................................................................\n",
      "Epoch: 700, accuracy:0.6711,  binary_crossentropy:0.5801,  loss:0.5801,  val_accuracy:0.6720,  val_binary_crossentropy:0.5855,  val_loss:0.5855,  \n",
      "....................................................................................................\n",
      "Epoch: 800, accuracy:0.6747,  binary_crossentropy:0.5779,  loss:0.5779,  val_accuracy:0.6800,  val_binary_crossentropy:0.5856,  val_loss:0.5856,  \n",
      "....."
     ]
    }
   ],
   "source": [
    "size_histories['Tiny'] = compile_and_fit(tiny_model, 'sizes/Tiny')"
   ]
  },
  {
   "cell_type": "markdown",
   "id": "elegant-buddy",
   "metadata": {},
   "source": [
    "パフォーマンスのチェック"
   ]
  },
  {
   "cell_type": "code",
   "execution_count": 21,
   "id": "undefined-fluid",
   "metadata": {},
   "outputs": [
    {
     "data": {
      "text/plain": [
       "(0.5, 0.7)"
      ]
     },
     "execution_count": 21,
     "metadata": {},
     "output_type": "execute_result"
    },
    {
     "data": {
      "image/png": "[encoded data removed]",
      "text/plain": [
       "<Figure size 432x288 with 1 Axes>"
      ]
     },
     "metadata": {
      "needs_background": "light"
     },
     "output_type": "display_data"
    }
   ],
   "source": [
    "plotter = tfdocs.plots.HistoryPlotter(metric='binary_crossentropy', smoothing_std=10)\n",
    "plotter.plot(size_histories)\n",
    "plt.ylim([0.5, 0.7])"
   ]
  },
  {
   "cell_type": "markdown",
   "id": "monetary-title",
   "metadata": {},
   "source": [
    "やや小さいモデルの学習を行う（隠れ層：2、各ユニット数：16）。"
   ]
  },
  {
   "cell_type": "code",
   "execution_count": 29,
   "id": "adjusted-wonder",
   "metadata": {},
   "outputs": [],
   "source": [
    "small_model = tf.keras.Sequential([\n",
    "    # `input_shape` is only required here so that `.summary` works\n",
    "    layers.Dense(16, activation='elu', input_shape=(FEATURES,)),\n",
    "    layers.Dense(16, activation='elu'),\n",
    "    layers.Dense(1)\n",
    "])"
   ]
  },
  {
   "cell_type": "code",
   "execution_count": 23,
   "id": "hazardous-student",
   "metadata": {},
   "outputs": [
    {
     "name": "stdout",
     "output_type": "stream",
     "text": [
      "Model: \"sequential_1\"\n",
      "_________________________________________________________________\n",
      "Layer (type)                 Output Shape              Param #   \n",
      "=================================================================\n",
      "dense_2 (Dense)              (None, 16)                464       \n",
      "_________________________________________________________________\n",
      "dense_3 (Dense)              (None, 16)                272       \n",
      "_________________________________________________________________\n",
      "dense_4 (Dense)              (None, 1)                 17        \n",
      "=================================================================\n",
      "Total params: 753\n",
      "Trainable params: 753\n",
      "Non-trainable params: 0\n",
      "_________________________________________________________________\n",
      "WARNING:tensorflow:Callback method `on_train_batch_end` is slow compared to the batch time (batch time: 0.0015s vs `on_train_batch_end` time: 0.0106s). Check your callbacks.\n",
      "\n",
      "Epoch: 0, accuracy:0.5032,  binary_crossentropy:0.7520,  loss:0.7520,  val_accuracy:0.4780,  val_binary_crossentropy:0.7278,  val_loss:0.7278,  \n",
      "....................................................................................................\n",
      "Epoch: 100, accuracy:0.6192,  binary_crossentropy:0.6118,  loss:0.6118,  val_accuracy:0.6270,  val_binary_crossentropy:0.6070,  val_loss:0.6070,  \n",
      "....................................................................................................\n",
      "Epoch: 200, accuracy:0.6615,  binary_crossentropy:0.5891,  loss:0.5891,  val_accuracy:0.6480,  val_binary_crossentropy:0.5865,  val_loss:0.5865,  \n",
      "....................................................................................................\n",
      "Epoch: 300, accuracy:0.6744,  binary_crossentropy:0.5782,  loss:0.5782,  val_accuracy:0.6470,  val_binary_crossentropy:0.5838,  val_loss:0.5838,  \n",
      "....................................................................................................\n",
      "Epoch: 400, accuracy:0.6857,  binary_crossentropy:0.5681,  loss:0.5681,  val_accuracy:0.6790,  val_binary_crossentropy:0.5801,  val_loss:0.5801,  \n",
      "....................................................................................................\n",
      "Epoch: 500, accuracy:0.6938,  binary_crossentropy:0.5619,  loss:0.5619,  val_accuracy:0.6820,  val_binary_crossentropy:0.5801,  val_loss:0.5801,  \n",
      "....................................................................................................\n",
      "Epoch: 600, accuracy:0.6987,  binary_crossentropy:0.5566,  loss:0.5566,  val_accuracy:0.6670,  val_binary_crossentropy:0.5840,  val_loss:0.5840,  \n",
      "................"
     ]
    }
   ],
   "source": [
    "size_histories['Small'] = compile_and_fit(small_model, 'sizes/Small')"
   ]
  },
  {
   "cell_type": "markdown",
   "id": "recorded-kitchen",
   "metadata": {},
   "source": [
    "中ぐらいのモデルの学習（隠れ層：3、各ユニット数：64）"
   ]
  },
  {
   "cell_type": "code",
   "execution_count": 30,
   "id": "contained-chicago",
   "metadata": {},
   "outputs": [],
   "source": [
    "medium_model = tf.keras.Sequential([\n",
    "    layers.Dense(64, activation='elu', input_shape=(FEATURES,)),\n",
    "    layers.Dense(64, activation='elu'),\n",
    "    layers.Dense(64, activation='elu'),\n",
    "    layers.Dense(1)\n",
    "])"
   ]
  },
  {
   "cell_type": "code",
   "execution_count": 25,
   "id": "immediate-watershed",
   "metadata": {},
   "outputs": [
    {
     "name": "stdout",
     "output_type": "stream",
     "text": [
      "Model: \"sequential_2\"\n",
      "_________________________________________________________________\n",
      "Layer (type)                 Output Shape              Param #   \n",
      "=================================================================\n",
      "dense_5 (Dense)              (None, 64)                1856      \n",
      "_________________________________________________________________\n",
      "dense_6 (Dense)              (None, 64)                4160      \n",
      "_________________________________________________________________\n",
      "dense_7 (Dense)              (None, 64)                4160      \n",
      "_________________________________________________________________\n",
      "dense_8 (Dense)              (None, 1)                 65        \n",
      "=================================================================\n",
      "Total params: 10,241\n",
      "Trainable params: 10,241\n",
      "Non-trainable params: 0\n",
      "_________________________________________________________________\n",
      "WARNING:tensorflow:Callback method `on_train_batch_end` is slow compared to the batch time (batch time: 0.0025s vs `on_train_batch_end` time: 0.0112s). Check your callbacks.\n",
      "\n",
      "Epoch: 0, accuracy:0.4913,  binary_crossentropy:0.6920,  loss:0.6920,  val_accuracy:0.4740,  val_binary_crossentropy:0.6798,  val_loss:0.6798,  \n",
      "....................................................................................................\n",
      "Epoch: 100, accuracy:0.7142,  binary_crossentropy:0.5365,  loss:0.5365,  val_accuracy:0.6530,  val_binary_crossentropy:0.6038,  val_loss:0.6038,  \n",
      "....................................................................................................\n",
      "Epoch: 200, accuracy:0.7729,  binary_crossentropy:0.4423,  loss:0.4423,  val_accuracy:0.6330,  val_binary_crossentropy:0.6991,  val_loss:0.6991,  \n",
      "........................................................................"
     ]
    }
   ],
   "source": [
    "size_histories['Medium'] = compile_and_fit(medium_model, \"sizes/Medium\")"
   ]
  },
  {
   "cell_type": "markdown",
   "id": "oriental-sympathy",
   "metadata": {},
   "source": [
    "さらに大きいモデルで学習する。問題で必要とされる容量よりも多くの隠れ層を使って、過学習がどの程度早く始まるか見る。"
   ]
  },
  {
   "cell_type": "code",
   "execution_count": 31,
   "id": "british-excuse",
   "metadata": {},
   "outputs": [],
   "source": [
    "large_model = tf.keras.Sequential([\n",
    "    layers.Dense(512, activation='elu', input_shape=(FEATURES,)),\n",
    "    layers.Dense(512, activation='elu'),\n",
    "    layers.Dense(512, activation='elu'),\n",
    "    layers.Dense(512, activation='elu'),\n",
    "    layers.Dense(1)\n",
    "])"
   ]
  },
  {
   "cell_type": "code",
   "execution_count": 32,
   "id": "mounted-squad",
   "metadata": {},
   "outputs": [
    {
     "name": "stdout",
     "output_type": "stream",
     "text": [
      "Model: \"sequential_6\"\n",
      "_________________________________________________________________\n",
      "Layer (type)                 Output Shape              Param #   \n",
      "=================================================================\n",
      "dense_21 (Dense)             (None, 512)               14848     \n",
      "_________________________________________________________________\n",
      "dense_22 (Dense)             (None, 512)               262656    \n",
      "_________________________________________________________________\n",
      "dense_23 (Dense)             (None, 512)               262656    \n",
      "_________________________________________________________________\n",
      "dense_24 (Dense)             (None, 512)               262656    \n",
      "_________________________________________________________________\n",
      "dense_25 (Dense)             (None, 1)                 513       \n",
      "=================================================================\n",
      "Total params: 803,329\n",
      "Trainable params: 803,329\n",
      "Non-trainable params: 0\n",
      "_________________________________________________________________\n",
      "\n",
      "Epoch: 0, accuracy:0.5155,  binary_crossentropy:0.8306,  loss:0.8306,  val_accuracy:0.4850,  val_binary_crossentropy:0.7080,  val_loss:0.7080,  \n",
      "....................................................................................................\n",
      "Epoch: 100, accuracy:1.0000,  binary_crossentropy:0.0023,  loss:0.0023,  val_accuracy:0.6500,  val_binary_crossentropy:1.7734,  val_loss:1.7734,  \n",
      "....................................................................................................\n",
      "Epoch: 200, accuracy:1.0000,  binary_crossentropy:0.0001,  loss:0.0001,  val_accuracy:0.6490,  val_binary_crossentropy:2.4418,  val_loss:2.4418,  \n",
      ".................."
     ]
    }
   ],
   "source": [
    "size_histories['large'] = compile_and_fit(large_model, \"sizes/large\")"
   ]
  },
  {
   "cell_type": "markdown",
   "id": "circular-luxury",
   "metadata": {},
   "source": [
    "学習で得られた交差エントロピーを図示する。\n",
    "\n",
    "ポイント：\n",
    "\n",
    "- 小さい違いがあるのが普通\n",
    "- 同じ方向に落ちている間は、うまく学習ができている\n",
    "- 検証による損失の変化が見られなくなったら、過学習が始まっているかもしれない\n",
    "- 検証による損失が上昇し始めたら、過学習が始まっている"
   ]
  },
  {
   "cell_type": "code",
   "execution_count": 33,
   "id": "architectural-blast",
   "metadata": {},
   "outputs": [
    {
     "data": {
      "text/plain": [
       "Text(0.5, 0, 'Epochs [Log Scale]')"
      ]
     },
     "execution_count": 33,
     "metadata": {},
     "output_type": "execute_result"
    },
    {
     "data": {
      "image/png": "[encoded data removed]",
      "text/plain": [
       "<Figure size 432x288 with 1 Axes>"
      ]
     },
     "metadata": {
      "needs_background": "light"
     },
     "output_type": "display_data"
    }
   ],
   "source": [
    "plotter.plot(size_histories)\n",
    "a = plt.xscale('log')\n",
    "plt.xlim([5, max(plt.xlim())])\n",
    "plt.ylim([0.5, 0.7])\n",
    "plt.xlabel(\"Epochs [Log Scale]\")"
   ]
  },
  {
   "cell_type": "markdown",
   "id": "handed-defendant",
   "metadata": {},
   "source": [
    "これらはTensorBoardログにすべて書き込まれる。\n",
    "\n",
    "notebookでTensorBoardビューアーを開いてみる"
   ]
  },
  {
   "cell_type": "code",
   "execution_count": 34,
   "id": "turned-seafood",
   "metadata": {},
   "outputs": [
    {
     "data": {
      "text/html": [
       "\n",
       "      <iframe id=\"tensorboard-frame-c452076b895916e4\" width=\"100%\" height=\"800\" frameborder=\"0\">\n",
       "      </iframe>\n",
       "      <script>\n",
       "        (function() {\n",
       "          const frame = document.getElementById(\"tensorboard-frame-c452076b895916e4\");\n",
       "          const url = new URL(\"/\", window.location);\n",
       "          const port = 6006;\n",
       "          if (port) {\n",
       "            url.port = port;\n",
       "          }\n",
       "          frame.src = url;\n",
       "        })();\n",
       "      </script>\n",
       "    "
      ],
      "text/plain": [
       "<IPython.core.display.HTML object>"
      ]
     },
     "metadata": {},
     "output_type": "display_data"
    }
   ],
   "source": [
    "# Load the TensorBoard notebook extension\n",
    "%load_ext tensorboard\n",
    "\n",
    "# Open an embedded TensorBoard viewer\n",
    "%tensorboard --logdir {logdir}/sizes"
   ]
  },
  {
   "cell_type": "markdown",
   "id": "alleged-minutes",
   "metadata": {},
   "source": [
    "前回の学習結果はTensorBoard.devを使って表示できる。`<iframe>`にも含まれている。"
   ]
  },
  {
   "cell_type": "code",
   "execution_count": 35,
   "id": "antique-mitchell",
   "metadata": {},
   "outputs": [
    {
     "data": {
      "text/html": [
       "\n",
       "        <iframe\n",
       "            width=\"100%\"\n",
       "            height=\"800px\"\n",
       "            src=\"https://tensorboard.dev/experiment/vW7jmmF9TmKmy3rbheMQpw/#scalars&_smoothingWeight=0.97\"\n",
       "            frameborder=\"0\"\n",
       "            allowfullscreen\n",
       "        ></iframe>\n",
       "        "
      ],
      "text/plain": [
       "<IPython.lib.display.IFrame at 0x165c76940>"
      ]
     },
     "execution_count": 35,
     "metadata": {},
     "output_type": "execute_result"
    }
   ],
   "source": [
    "display.IFrame(\n",
    "    src=\"https://tensorboard.dev/experiment/vW7jmmF9TmKmy3rbheMQpw/#scalars&_smoothingWeight=0.97\",\n",
    "    width=\"100%\", height=\"800px\")"
   ]
  },
  {
   "cell_type": "markdown",
   "id": "broke-jimmy",
   "metadata": {},
   "source": [
    "以下のコマンドをcode-cellに打つと、TensorBoardの結果をTensorBoard.devにアップロードできる（Googleアカウントが必要）。"
   ]
  },
  {
   "cell_type": "code",
   "execution_count": 38,
   "id": "outstanding-china",
   "metadata": {},
   "outputs": [
    {
     "data": {
      "text/plain": [
       "ERROR: Failed to launch TensorBoard (exited with 1).\n",
       "Contents of stderr:\n",
       "***** TensorBoard Uploader *****\n",
       "\n",
       "This will upload your TensorBoard logs to https://tensorboard.dev/ from\n",
       "the following directory:\n",
       "\n",
       "/var/folders/25/bt3n4kt13qz0zrcj1x1l5jv40000gn/T/tmpko_jd665/tensorboard_logs/sizes\n",
       "\n",
       "This TensorBoard will be visible to everyone. Do not upload sensitive\n",
       "data.\n",
       "\n",
       "Your use of this service is subject to Google's Terms of Service\n",
       "<https://policies.google.com/terms> and Privacy Policy\n",
       "<https://policies.google.com/privacy>, and TensorBoard.dev's Terms of Service\n",
       "<https://tensorboard.dev/policy/terms/>.\n",
       "\n",
       "This notice will not be shown again while you are logged into the uploader.\n",
       "To log out, run `tensorboard dev auth revoke`.\n",
       "\n",
       "Traceback (most recent call last):\n",
       "  File \"/Users/nakayamayasuaki/python_env/dl_env/bin/tensorboard\", line 8, in <module>\n",
       "    sys.exit(run_main())\n",
       "  File \"/Users/nakayamayasuaki/python_env/dl_env/lib/python3.8/site-packages/tensorboard/main.py\", line 75, in run_main\n",
       "    app.run(tensorboard.main, flags_parser=tensorboard.configure)\n",
       "  File \"/Users/nakayamayasuaki/python_env/dl_env/lib/python3.8/site-packages/absl/app.py\", line 300, in run\n",
       "    _run_main(main, args)\n",
       "  File \"/Users/nakayamayasuaki/python_env/dl_env/lib/python3.8/site-packages/absl/app.py\", line 251, in _run_main\n",
       "    sys.exit(main(argv))\n",
       "  File \"/Users/nakayamayasuaki/python_env/dl_env/lib/python3.8/site-packages/tensorboard/program.py\", line 289, in main\n",
       "    return runner(self.flags) or 0\n",
       "  File \"/Users/nakayamayasuaki/python_env/dl_env/lib/python3.8/site-packages/tensorboard/uploader/uploader_subcommand.py\", line 671, in run\n",
       "    return _run(flags, self._experiment_url_callback)\n",
       "  File \"/Users/nakayamayasuaki/python_env/dl_env/lib/python3.8/site-packages/tensorboard/uploader/uploader_subcommand.py\", line 97, in _run\n",
       "    _prompt_for_user_ack(intent)\n",
       "  File \"/Users/nakayamayasuaki/python_env/dl_env/lib/python3.8/site-packages/tensorboard/uploader/uploader_subcommand.py\", line 70, in _prompt_for_user_ack\n",
       "    response = six.moves.input(\"Continue? (yes/NO) \")\n",
       "EOFError: EOF when reading a line\n",
       "Contents of stdout:\n",
       "Continue? (yes/NO)"
      ]
     },
     "metadata": {},
     "output_type": "display_data"
    }
   ],
   "source": [
    "tensorboard dev upload --logdir {logdir}/sizes"
   ]
  },
  {
   "cell_type": "markdown",
   "id": "valid-expense",
   "metadata": {},
   "source": [
    "過学習を避けるストラテジーの前に、比較のために`\"Tiny\"`モデルのログをコピーしておく。"
   ]
  },
  {
   "cell_type": "code",
   "execution_count": 39,
   "id": "shared-governor",
   "metadata": {},
   "outputs": [
    {
     "data": {
      "text/plain": [
       "PosixPath('/var/folders/25/bt3n4kt13qz0zrcj1x1l5jv40000gn/T/tmpko_jd665/tensorboard_logs/regularizers/Tiny')"
      ]
     },
     "execution_count": 39,
     "metadata": {},
     "output_type": "execute_result"
    }
   ],
   "source": [
    "shutil.rmtree(logdir/'regularizers/Tiny', ignore_errors=True)\n",
    "shutil.copytree(logdir/'sizes/Tiny', logdir/'regularizers/Tiny')"
   ]
  },
  {
   "cell_type": "code",
   "execution_count": 40,
   "id": "alpha-budapest",
   "metadata": {},
   "outputs": [],
   "source": [
    "regularizer_histories = {}\n",
    "regularizer_histories['Tiny'] = size_histories['Tiny']"
   ]
  },
  {
   "cell_type": "markdown",
   "id": "completed-proposal",
   "metadata": {},
   "source": [
    "## 重み規制を追加する\n",
    "\n",
    "重みに規制を追加する。大きさが大きい重みに関して、ネットワークの損失関数にコストを加算する。二つの規制手法がある。\n",
    "\n",
    "- [L1 regularization](https://developers.google.com/machine-learning/glossary/#L1_regularization)：追加されるコストは重みの絶対値に比例する（\"L1 norm\"と呼ばれる）。モデルはスパースモデルに近づく。\n",
    "- [L2 regularization (weight decay)](https://developers.google.com/machine-learning/glossary/#L2_regularization)：追加されるコストは重みの二乗に比例する（\"L2 norm\"と呼ばれる）。スパースにならないように重みに規制を与える。\n",
    "\n",
    "ここではL2 regularizationを`tf.keras`の層に追加する。"
   ]
  },
  {
   "cell_type": "code",
   "execution_count": 41,
   "id": "approved-publicity",
   "metadata": {},
   "outputs": [
    {
     "name": "stdout",
     "output_type": "stream",
     "text": [
      "Model: \"sequential_7\"\n",
      "_________________________________________________________________\n",
      "Layer (type)                 Output Shape              Param #   \n",
      "=================================================================\n",
      "dense_26 (Dense)             (None, 512)               14848     \n",
      "_________________________________________________________________\n",
      "dense_27 (Dense)             (None, 512)               262656    \n",
      "_________________________________________________________________\n",
      "dense_28 (Dense)             (None, 512)               262656    \n",
      "_________________________________________________________________\n",
      "dense_29 (Dense)             (None, 512)               262656    \n",
      "_________________________________________________________________\n",
      "dense_30 (Dense)             (None, 1)                 513       \n",
      "=================================================================\n",
      "Total params: 803,329\n",
      "Trainable params: 803,329\n",
      "Non-trainable params: 0\n",
      "_________________________________________________________________\n",
      "\n",
      "Epoch: 0, accuracy:0.5074,  binary_crossentropy:0.7663,  loss:2.2693,  val_accuracy:0.4800,  val_binary_crossentropy:0.6744,  val_loss:2.0856,  \n",
      "....................................................................................................\n",
      "Epoch: 100, accuracy:0.6617,  binary_crossentropy:0.5955,  loss:0.6189,  val_accuracy:0.6490,  val_binary_crossentropy:0.5888,  val_loss:0.6120,  \n",
      "....................................................................................................\n",
      "Epoch: 200, accuracy:0.6763,  binary_crossentropy:0.5831,  loss:0.6071,  val_accuracy:0.6570,  val_binary_crossentropy:0.5834,  val_loss:0.6075,  \n",
      "....................................................................................................\n",
      "Epoch: 300, accuracy:0.6765,  binary_crossentropy:0.5737,  loss:0.6020,  val_accuracy:0.7000,  val_binary_crossentropy:0.5942,  val_loss:0.6221,  \n",
      "....................................................................................................\n",
      "Epoch: 400, accuracy:0.6932,  binary_crossentropy:0.5600,  loss:0.5871,  val_accuracy:0.6630,  val_binary_crossentropy:0.5771,  val_loss:0.6042,  \n",
      "....................................................................................................\n",
      "Epoch: 500, accuracy:0.6988,  binary_crossentropy:0.5571,  loss:0.5844,  val_accuracy:0.6670,  val_binary_crossentropy:0.5810,  val_loss:0.6084,  \n",
      "......................"
     ]
    }
   ],
   "source": [
    "l2_model = tf.keras.Sequential([\n",
    "    layers.Dense(512, activation='elu', kernel_regularizer=regularizers.l2(0.001), input_shape=(FEATURES,)),\n",
    "    layers.Dense(512, activation='elu', kernel_regularizer=regularizers.l2(0.001)),\n",
    "    layers.Dense(512, activation='elu', kernel_regularizer=regularizers.l2(0.001)),\n",
    "    layers.Dense(512, activation='elu', kernel_regularizer=regularizers.l2(0.001)),\n",
    "    layers.Dense(1)\n",
    "])\n",
    "\n",
    "regularizer_histories['l2'] = compile_and_fit(l2_model, \"regularizers/l2\")"
   ]
  },
  {
   "cell_type": "markdown",
   "id": "meaningful-arctic",
   "metadata": {},
   "source": [
    "`l2(0.001)`：重み行列の各係数に関して、損失関数に`0.001 * weight_coefficientvalue**2`を加算する\n",
    "\n",
    "`binary_crossentropy`を直接観察しているのは、このメトリックはL2の規制を含めて計算しないから\n",
    "\n",
    "学習結果から過学習が起きにくいことがわかる"
   ]
  },
  {
   "cell_type": "code",
   "execution_count": 42,
   "id": "activated-devices",
   "metadata": {},
   "outputs": [
    {
     "data": {
      "text/plain": [
       "(0.5, 0.7)"
      ]
     },
     "execution_count": 42,
     "metadata": {},
     "output_type": "execute_result"
    },
    {
     "data": {
      "image/png": "[encoded data removed]",
      "text/plain": [
       "<Figure size 432x288 with 1 Axes>"
      ]
     },
     "metadata": {
      "needs_background": "light"
     },
     "output_type": "display_data"
    }
   ],
   "source": [
    "plotter.plot(regularizer_histories)\n",
    "plt.ylim([0.5, 0.7])"
   ]
  },
  {
   "cell_type": "markdown",
   "id": "conservative-found",
   "metadata": {},
   "source": [
    "`\"L2\"`規制モデルはより新しいデータに対して強くなり、`\"Tiny\"`モデルとも比較できるレベルになった。"
   ]
  },
  {
   "cell_type": "markdown",
   "id": "automatic-stand",
   "metadata": {},
   "source": [
    "このタイプの規制モデルを使う時は以下の２点に気をつける\n",
    "\n",
    "- 自分でループを書いている場合、損失に重みのコストを加算していることを意識する\n",
    "- この実装では重みのコストを追加して、通常の最適化手法を用いている\n",
    "\n",
    "もう一つの手法は、損失をそのまま最適化に渡すだけでなく、最適化中にも重みのペナルティを適応する。この\"Decoupled Weight Decay\"を利用する時は、`optimizers.FTRL`や`optimizers.AdamW`を使う。"
   ]
  },
  {
   "cell_type": "code",
   "execution_count": 43,
   "id": "dried-masters",
   "metadata": {},
   "outputs": [],
   "source": [
    "result = l2_model(features)\n",
    "regularization_loss = tf.add_n(l2_model.losses)"
   ]
  },
  {
   "cell_type": "markdown",
   "id": "responsible-plaintiff",
   "metadata": {},
   "source": [
    "## ドロップアウトを追加する\n",
    "\n",
    "トロント大学のHintonと彼の学生が考えた、ドロップアウト手法を使う。この手法は最も効果的で一般的である。\n",
    "\n",
    "この手法の考えた方は、それぞれのノードは他のノードの出力に依存することはできないので、その値自体が便利である特徴量はそのまま出力しなければならない、である。この手法では、学習中にランダムにいくつかの特徴量を削除し、その特徴量を0にする。ドロップアウトさせる確率は0.2から0.5の間に設定するのが一般的。テスト評価の時には、このドロップアウトは行わず、代わりにドロップアウト確率と同じ割合だけ特徴量をスケールダウンさせる。\n",
    "\n",
    "次のモデルでは`tf.layers.Dropout`層を追加する。"
   ]
  },
  {
   "cell_type": "code",
   "execution_count": 44,
   "id": "parliamentary-basketball",
   "metadata": {},
   "outputs": [
    {
     "name": "stdout",
     "output_type": "stream",
     "text": [
      "Model: \"sequential_8\"\n",
      "_________________________________________________________________\n",
      "Layer (type)                 Output Shape              Param #   \n",
      "=================================================================\n",
      "dense_31 (Dense)             (None, 512)               14848     \n",
      "_________________________________________________________________\n",
      "dropout (Dropout)            (None, 512)               0         \n",
      "_________________________________________________________________\n",
      "dense_32 (Dense)             (None, 512)               262656    \n",
      "_________________________________________________________________\n",
      "dropout_1 (Dropout)          (None, 512)               0         \n",
      "_________________________________________________________________\n",
      "dense_33 (Dense)             (None, 512)               262656    \n",
      "_________________________________________________________________\n",
      "dropout_2 (Dropout)          (None, 512)               0         \n",
      "_________________________________________________________________\n",
      "dense_34 (Dense)             (None, 512)               262656    \n",
      "_________________________________________________________________\n",
      "dropout_3 (Dropout)          (None, 512)               0         \n",
      "_________________________________________________________________\n",
      "dense_35 (Dense)             (None, 1)                 513       \n",
      "=================================================================\n",
      "Total params: 803,329\n",
      "Trainable params: 803,329\n",
      "Non-trainable params: 0\n",
      "_________________________________________________________________\n",
      "\n",
      "Epoch: 0, accuracy:0.4999,  binary_crossentropy:0.8089,  loss:0.8089,  val_accuracy:0.4880,  val_binary_crossentropy:0.6800,  val_loss:0.6800,  \n",
      "....................................................................................................\n",
      "Epoch: 100, accuracy:0.6615,  binary_crossentropy:0.5941,  loss:0.5941,  val_accuracy:0.6740,  val_binary_crossentropy:0.5799,  val_loss:0.5799,  \n",
      "....................................................................................................\n",
      "Epoch: 200, accuracy:0.6870,  binary_crossentropy:0.5574,  loss:0.5574,  val_accuracy:0.6790,  val_binary_crossentropy:0.5794,  val_loss:0.5794,  \n",
      "....................................................................................................\n",
      "Epoch: 300, accuracy:0.7196,  binary_crossentropy:0.5122,  loss:0.5122,  val_accuracy:0.6770,  val_binary_crossentropy:0.6139,  val_loss:0.6139,  \n",
      "............................."
     ]
    }
   ],
   "source": [
    "dropout_model = tf.keras.Sequential([\n",
    "    layers.Dense(512, activation='elu', input_shape=(FEATURES,)),\n",
    "    layers.Dropout(0.5),\n",
    "    layers.Dense(512, activation='elu'),\n",
    "    layers.Dropout(0.5),\n",
    "    layers.Dense(512, activation='elu'),\n",
    "    layers.Dropout(0.5),\n",
    "    layers.Dense(512, activation='elu'),\n",
    "    layers.Dropout(0.5),\n",
    "    layers.Dense(1)\n",
    "])\n",
    "\n",
    "regularizer_histories['dropout'] = compile_and_fit(dropout_model, \"regularizers/dropout\")"
   ]
  },
  {
   "cell_type": "code",
   "execution_count": 45,
   "id": "educational-veteran",
   "metadata": {},
   "outputs": [
    {
     "data": {
      "text/plain": [
       "(0.5, 0.7)"
      ]
     },
     "execution_count": 45,
     "metadata": {},
     "output_type": "execute_result"
    },
    {
     "data": {
      "image/png": "[encoded data removed]",
      "text/plain": [
       "<Figure size 432x288 with 1 Axes>"
      ]
     },
     "metadata": {
      "needs_background": "light"
     },
     "output_type": "display_data"
    }
   ],
   "source": [
    "plotter.plot(regularizer_histories)\n",
    "plt.ylim([0.5, 0.7])"
   ]
  },
  {
   "cell_type": "markdown",
   "id": "laughing-knight",
   "metadata": {},
   "source": [
    "このモデルも`\"Large\"`モデルよりは良いが、`\"Tiny\"`モデルには及ばない。\n",
    "\n",
    "次はL2規制とドロップアウトを一緒に使ってみる。"
   ]
  },
  {
   "cell_type": "code",
   "execution_count": 46,
   "id": "frequent-wrong",
   "metadata": {},
   "outputs": [
    {
     "name": "stdout",
     "output_type": "stream",
     "text": [
      "Model: \"sequential_9\"\n",
      "_________________________________________________________________\n",
      "Layer (type)                 Output Shape              Param #   \n",
      "=================================================================\n",
      "dense_36 (Dense)             (None, 512)               14848     \n",
      "_________________________________________________________________\n",
      "dropout_4 (Dropout)          (None, 512)               0         \n",
      "_________________________________________________________________\n",
      "dense_37 (Dense)             (None, 512)               262656    \n",
      "_________________________________________________________________\n",
      "dropout_5 (Dropout)          (None, 512)               0         \n",
      "_________________________________________________________________\n",
      "dense_38 (Dense)             (None, 512)               262656    \n",
      "_________________________________________________________________\n",
      "dropout_6 (Dropout)          (None, 512)               0         \n",
      "_________________________________________________________________\n",
      "dense_39 (Dense)             (None, 512)               262656    \n",
      "_________________________________________________________________\n",
      "dropout_7 (Dropout)          (None, 512)               0         \n",
      "_________________________________________________________________\n",
      "dense_40 (Dense)             (None, 1)                 513       \n",
      "=================================================================\n",
      "Total params: 803,329\n",
      "Trainable params: 803,329\n",
      "Non-trainable params: 0\n",
      "_________________________________________________________________\n",
      "\n",
      "Epoch: 0, accuracy:0.5088,  binary_crossentropy:0.7959,  loss:0.9545,  val_accuracy:0.5560,  val_binary_crossentropy:0.6726,  val_loss:0.8306,  \n",
      "....................................................................................................\n",
      "Epoch: 100, accuracy:0.6437,  binary_crossentropy:0.6080,  loss:0.6374,  val_accuracy:0.6250,  val_binary_crossentropy:0.5879,  val_loss:0.6172,  \n",
      "....................................................................................................\n",
      "Epoch: 200, accuracy:0.6638,  binary_crossentropy:0.5878,  loss:0.6130,  val_accuracy:0.6560,  val_binary_crossentropy:0.5831,  val_loss:0.6082,  \n",
      "....................................................................................................\n",
      "Epoch: 300, accuracy:0.6758,  binary_crossentropy:0.5837,  loss:0.6120,  val_accuracy:0.6810,  val_binary_crossentropy:0.5672,  val_loss:0.5956,  \n",
      "....................................................................................................\n",
      "Epoch: 400, accuracy:0.6787,  binary_crossentropy:0.5779,  loss:0.6081,  val_accuracy:0.6890,  val_binary_crossentropy:0.5618,  val_loss:0.5920,  \n",
      "....................................................................................................\n",
      "Epoch: 500, accuracy:0.6830,  binary_crossentropy:0.5707,  loss:0.6033,  val_accuracy:0.6860,  val_binary_crossentropy:0.5506,  val_loss:0.5832,  \n",
      "....................................................................................................\n",
      "Epoch: 600, accuracy:0.6887,  binary_crossentropy:0.5649,  loss:0.5992,  val_accuracy:0.6930,  val_binary_crossentropy:0.5461,  val_loss:0.5803,  \n",
      "....................................................................................................\n",
      "Epoch: 700, accuracy:0.6877,  binary_crossentropy:0.5642,  loss:0.6004,  val_accuracy:0.6960,  val_binary_crossentropy:0.5487,  val_loss:0.5849,  \n",
      "....................................................................................................\n",
      "Epoch: 800, accuracy:0.6924,  binary_crossentropy:0.5542,  loss:0.5918,  val_accuracy:0.6880,  val_binary_crossentropy:0.5469,  val_loss:0.5846,  \n",
      ".............................................."
     ]
    }
   ],
   "source": [
    "combined_model = tf.keras.Sequential([\n",
    "    layers.Dense(512, kernel_regularizer=regularizers.l2(0.0001), activation='elu', input_shape=(FEATURES,)),\n",
    "    layers.Dropout(0.5),\n",
    "    layers.Dense(512, kernel_regularizer=regularizers.l2(0.0001), activation='elu'),\n",
    "    layers.Dropout(0.5),\n",
    "    layers.Dense(512, kernel_regularizer=regularizers.l2(0.0001), activation='elu'),\n",
    "    layers.Dropout(0.5),\n",
    "    layers.Dense(512, kernel_regularizer=regularizers.l2(0.0001), activation='elu'),\n",
    "    layers.Dropout(0.5),\n",
    "    layers.Dense(1)\n",
    "])\n",
    "\n",
    "regularizer_histories['combined'] = compile_and_fit(combined_model, \"regularizers/combined\")"
   ]
  },
  {
   "cell_type": "code",
   "execution_count": 47,
   "id": "frequent-latest",
   "metadata": {},
   "outputs": [
    {
     "data": {
      "text/plain": [
       "(0.5, 0.7)"
      ]
     },
     "execution_count": 47,
     "metadata": {},
     "output_type": "execute_result"
    },
    {
     "data": {
      "image/png": "[encoded data removed]",
      "text/plain": [
       "<Figure size 432x288 with 1 Axes>"
      ]
     },
     "metadata": {
      "needs_background": "light"
     },
     "output_type": "display_data"
    }
   ],
   "source": [
    "plotter.plot(regularizer_histories)\n",
    "plt.ylim([0.5, 0.7])"
   ]
  },
  {
   "cell_type": "code",
   "execution_count": 48,
   "id": "worth-causing",
   "metadata": {},
   "outputs": [
    {
     "data": {
      "text/html": [
       "\n",
       "      <iframe id=\"tensorboard-frame-4685f32584e91b74\" width=\"100%\" height=\"800\" frameborder=\"0\">\n",
       "      </iframe>\n",
       "      <script>\n",
       "        (function() {\n",
       "          const frame = document.getElementById(\"tensorboard-frame-4685f32584e91b74\");\n",
       "          const url = new URL(\"/\", window.location);\n",
       "          const port = 6007;\n",
       "          if (port) {\n",
       "            url.port = port;\n",
       "          }\n",
       "          frame.src = url;\n",
       "        })();\n",
       "      </script>\n",
       "    "
      ],
      "text/plain": [
       "<IPython.core.display.HTML object>"
      ]
     },
     "metadata": {},
     "output_type": "display_data"
    }
   ],
   "source": [
    "%tensorboard --logdir {logdir}/regularizers"
   ]
  },
  {
   "cell_type": "code",
   "execution_count": 49,
   "id": "broadband-therapy",
   "metadata": {},
   "outputs": [
    {
     "data": {
      "text/html": [
       "\n",
       "        <iframe\n",
       "            width=\"100%\"\n",
       "            height=\"800px\"\n",
       "            src=\"https://tensorboard.dev/experiment/fGInKDo8TXes1z7HQku9mw/#scalars&_smoothingWeight=0.97\"\n",
       "            frameborder=\"0\"\n",
       "            allowfullscreen\n",
       "        ></iframe>\n",
       "        "
      ],
      "text/plain": [
       "<IPython.lib.display.IFrame at 0x1661c6730>"
      ]
     },
     "execution_count": 49,
     "metadata": {},
     "output_type": "execute_result"
    }
   ],
   "source": [
    "display.IFrame(\n",
    "    src=\"https://tensorboard.dev/experiment/fGInKDo8TXes1z7HQku9mw/#scalars&_smoothingWeight=0.97\",\n",
    "    width = \"100%\",\n",
    "    height=\"800px\")"
   ]
  },
  {
   "cell_type": "markdown",
   "id": "continued-outdoors",
   "metadata": {},
   "source": [
    "まとめ\n",
    "\n",
    "過学習を避ける方法：\n",
    "\n",
    "- より多くの学習データを使う\n",
    "- ネットワークのキャパシティを減らす\n",
    "- 重み規制を追加する\n",
    "- ドロップアウトを追加する\n",
    "\n",
    "これ以外にも方法はある：\n",
    "\n",
    "- data-augmentation\n",
    "- batch normalization\n",
    "\n",
    "普通はいろいろな手法を一緒に使うことでより効率よく学習できる。"
   ]
  },
  {
   "cell_type": "code",
   "execution_count": null,
   "id": "bigger-massachusetts",
   "metadata": {},
   "outputs": [],
   "source": []
  }
 ],
 "metadata": {
  "kernelspec": {
   "display_name": "Python 3",
   "language": "python",
   "name": "python3"
  },
  "language_info": {
   "codemirror_mode": {
    "name": "ipython",
    "version": 3
   },
   "file_extension": ".py",
   "mimetype": "text/x-python",
   "name": "python",
   "nbconvert_exporter": "python",
   "pygments_lexer": "ipython3",
   "version": "3.8.7"
  }
 },
 "nbformat": 4,
 "nbformat_minor": 5
}

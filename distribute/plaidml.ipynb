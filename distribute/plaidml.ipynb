{
 "cells": [
  {
   "cell_type": "code",
   "execution_count": 1,
   "id": "peripheral-hacker",
   "metadata": {},
   "outputs": [],
   "source": [
    "# Import TensorFlow and TensorFlow Datasets\n",
    "import plaidml.keras\n",
    "plaidml.keras.install_backend()\n",
    "import keras\n",
    "\n",
    "import tensorflow_datasets as tfds\n",
    "import tensorflow as tf\n",
    "\n",
    "import os"
   ]
  },
  {
   "cell_type": "code",
   "execution_count": 2,
   "id": "proud-madrid",
   "metadata": {},
   "outputs": [
    {
     "name": "stdout",
     "output_type": "stream",
     "text": [
      "plaidml\n",
      "2.4.1\n"
     ]
    }
   ],
   "source": [
    "print(keras.backend.backend())\n",
    "print(tf.__version__)"
   ]
  },
  {
   "cell_type": "code",
   "execution_count": 4,
   "id": "functioning-oxygen",
   "metadata": {},
   "outputs": [],
   "source": [
    "import numpy as np"
   ]
  },
  {
   "cell_type": "code",
   "execution_count": 5,
   "id": "controlling-shape",
   "metadata": {},
   "outputs": [],
   "source": [
    "import random"
   ]
  },
  {
   "cell_type": "code",
   "execution_count": 6,
   "id": "considerable-documentary",
   "metadata": {},
   "outputs": [
    {
     "data": {
      "text/plain": [
       "0.3278367751011333"
      ]
     },
     "execution_count": 6,
     "metadata": {},
     "output_type": "execute_result"
    }
   ],
   "source": [
    "random.uniform(0,1)"
   ]
  },
  {
   "cell_type": "code",
   "execution_count": 12,
   "id": "commercial-spring",
   "metadata": {},
   "outputs": [],
   "source": [
    "datasets, info = tfds.load(name='mnist', with_info=True, as_supervised=True)\n",
    "\n",
    "mnist_train, mnist_test = datasets['train'], datasets['test']"
   ]
  },
  {
   "cell_type": "code",
   "execution_count": 13,
   "id": "essential-senegal",
   "metadata": {},
   "outputs": [],
   "source": [
    "# You can also do info.splits.total_num_examples to get the total\n",
    "# number of examples in the dataset.\n",
    "\n",
    "num_train_examples = info.splits['train'].num_examples\n",
    "num_test_examples = info.splits['test'].num_examples\n",
    "\n",
    "BUFFER_SIZE = 10000\n",
    "BATCH_SIZE = 64"
   ]
  },
  {
   "cell_type": "code",
   "execution_count": 14,
   "id": "rotary-ukraine",
   "metadata": {},
   "outputs": [
    {
     "name": "stdout",
     "output_type": "stream",
     "text": [
      "[[[ 0  1  2]\n",
      "  [ 3  4  5]]\n",
      "\n",
      " [[ 6  7  8]\n",
      "  [ 9 10 11]]]\n",
      "#####################\n",
      "[[[ 6  7  8]\n",
      "  [ 9 10 11]]\n",
      "\n",
      " [[ 0  1  2]\n",
      "  [ 3  4  5]]]\n",
      "#####################\n",
      "[[[ 3  4  5]\n",
      "  [ 0  1  2]]\n",
      "\n",
      " [[ 9 10 11]\n",
      "  [ 6  7  8]]]\n",
      "#####################\n",
      "tf.Tensor(\n",
      "[[[ 6  7  8]\n",
      "  [ 9 10 11]]\n",
      "\n",
      " [[ 0  1  2]\n",
      "  [ 3  4  5]]], shape=(2, 2, 3), dtype=int64)\n",
      "#####################\n",
      "tf.Tensor(\n",
      "[[[ 3  4  5]\n",
      "  [ 0  1  2]]\n",
      "\n",
      " [[ 9 10 11]\n",
      "  [ 6  7  8]]], shape=(2, 2, 3), dtype=int64)\n",
      "#####################\n"
     ]
    }
   ],
   "source": [
    "x = np.arange(2 * 2 * 3).reshape((2,2,3))\n",
    "print(x, end=\"\\n#####################\\n\")\n",
    "print(np.flipud(x), end=\"\\n#####################\\n\")\n",
    "print(np.fliplr(x), end=\"\\n#####################\\n\")\n",
    "print(tf.image.flip_up_down(x), end=\"\\n#####################\\n\")\n",
    "print(tf.image.flip_left_right(x), end=\"\\n#####################\\n\")"
   ]
  },
  {
   "cell_type": "code",
   "execution_count": 68,
   "id": "hourly-recycling",
   "metadata": {},
   "outputs": [],
   "source": [
    "class DataGenerator(keras.utils.Sequence):\n",
    "    def __init__(self, ds,\n",
    "                 horizontal_flip=False,\n",
    "                 vertical_flip=False,\n",
    "                 rescale=None,\n",
    "                 shuffle=False,\n",
    "                 batch_size=32,\n",
    "                 num_classes=None,\n",
    "                 steps_per_epoch=None):\n",
    "        if steps_per_epoch == None:\n",
    "            self.length = ds.__len__().numpy() // batch_size\n",
    "        else:\n",
    "            self.length = steps_per_epoch\n",
    "        self.batch_size = batch_size\n",
    "        if rescale == None:\n",
    "            rescale = 1.\n",
    "        self.image = list(map(lambda d: d[0]/rescale, ds.as_numpy_iterator()))\n",
    "#         self.label = list(map(lambda d: keras.utils.np_utils.to_categorical(d[1], num_classes),\n",
    "#                               ds.as_numpy_iterator()))\n",
    "        self.label = list(map(lambda d: d[1],\n",
    "                              ds.as_numpy_iterator()))\n",
    "        self.num_examples = len(self.image)\n",
    "        self.shuffle = shuffle\n",
    "        self.horizontal_flip = horizontal_flip\n",
    "        self.vertical_flip = vertical_flip\n",
    "        self.num_classes = num_classes\n",
    "        \n",
    "    def __len__(self):\n",
    "        return self.length\n",
    "        \n",
    "    def __getitem__(self, index):\n",
    "        batch_x = self.image[index * self.batch_size : min(self.num_examples - 1, (index+1) * self.batch_size)]\n",
    "        batch_y = self.label[index * self.batch_size : min(self.num_examples - 1, (index+1) * self.batch_size)]\n",
    "        \n",
    "        batch_x = np.array([self._preprocess(image) for image in batch_x])\n",
    "        batch_y = np.array(batch_y)\n",
    "        \n",
    "        return batch_x, batch_y\n",
    "\n",
    "    def on_epoch_end(self):\n",
    "        if shuffle:\n",
    "            new_image, new_label = zip(*random.sample(list(zip(self.image, self.label)), self.num_examples))\n",
    "            self.image = list(new_image)\n",
    "            self.label = list(new_label)\n",
    "        \n",
    "    def _preprocess(self, image):\n",
    "        if self.horizontal_flip and random.uniform(0, 1) < 0.5:\n",
    "            image = np.fliplr(image)\n",
    "        if self.vertical_flip and random.uniform(0, 1) < 0.5:\n",
    "            image = np.flipud(image)\n",
    "        return image"
   ]
  },
  {
   "cell_type": "code",
   "execution_count": 69,
   "id": "capable-schema",
   "metadata": {},
   "outputs": [],
   "source": [
    "train_generator = DataGenerator(mnist_train, rescale=255., num_classes=10)"
   ]
  },
  {
   "cell_type": "code",
   "execution_count": 70,
   "id": "handled-future",
   "metadata": {},
   "outputs": [
    {
     "name": "stdout",
     "output_type": "stream",
     "text": [
      "(28, 28, 1)\n",
      "()\n"
     ]
    }
   ],
   "source": [
    "for d in next(iter(train_generator)):\n",
    "    print(d[0].shape)"
   ]
  },
  {
   "cell_type": "code",
   "execution_count": 71,
   "id": "graduate-winter",
   "metadata": {},
   "outputs": [],
   "source": [
    "model = keras.Sequential([\n",
    "    keras.layers.Conv2D(32, 3, input_shape=(28, 28, 1)),\n",
    "    keras.layers.Activation('relu'),\n",
    "    keras.layers.MaxPooling2D(),\n",
    "    keras.layers.Flatten(),\n",
    "    keras.layers.Dense(64),\n",
    "    keras.layers.Activation('relu'),\n",
    "    keras.layers.Dense(10),\n",
    "    keras.layers.Activation('softmax')\n",
    "])\n",
    "\n",
    "model.compile(loss='sparse_categorical_crossentropy',\n",
    "              optimizer='adam',\n",
    "              metrics=['accuracy'])"
   ]
  },
  {
   "cell_type": "code",
   "execution_count": 72,
   "id": "missing-agenda",
   "metadata": {},
   "outputs": [
    {
     "name": "stdout",
     "output_type": "stream",
     "text": [
      "_________________________________________________________________\n",
      "Layer (type)                 Output Shape              Param #   \n",
      "=================================================================\n",
      "conv2d_8 (Conv2D)            (None, 26, 26, 32)        320       \n",
      "_________________________________________________________________\n",
      "activation_17 (Activation)   (None, 26, 26, 32)        0         \n",
      "_________________________________________________________________\n",
      "max_pooling2d_8 (MaxPooling2 (None, 13, 13, 32)        0         \n",
      "_________________________________________________________________\n",
      "flatten_8 (Flatten)          (None, 5408)              0         \n",
      "_________________________________________________________________\n",
      "dense_15 (Dense)             (None, 64)                346176    \n",
      "_________________________________________________________________\n",
      "activation_18 (Activation)   (None, 64)                0         \n",
      "_________________________________________________________________\n",
      "dense_16 (Dense)             (None, 10)                650       \n",
      "_________________________________________________________________\n",
      "activation_19 (Activation)   (None, 10)                0         \n",
      "=================================================================\n",
      "Total params: 347,146\n",
      "Trainable params: 347,146\n",
      "Non-trainable params: 0\n",
      "_________________________________________________________________\n"
     ]
    }
   ],
   "source": [
    "model.summary()"
   ]
  },
  {
   "cell_type": "code",
   "execution_count": 73,
   "id": "solid-disaster",
   "metadata": {},
   "outputs": [
    {
     "data": {
      "text/plain": [
       "<tile.Value conv2d_8_input Placeholder FLOAT32(<tile.Value SymbolicDim UINT64()>, 28, 28, 1)>"
      ]
     },
     "execution_count": 73,
     "metadata": {},
     "output_type": "execute_result"
    }
   ],
   "source": [
    "model.input"
   ]
  },
  {
   "cell_type": "code",
   "execution_count": 74,
   "id": "apart-winner",
   "metadata": {},
   "outputs": [
    {
     "data": {
      "text/plain": [
       "<tile.Value Softmax FLOAT32(<tile.Value SymbolicDim UINT64()>, 10)>"
      ]
     },
     "execution_count": 74,
     "metadata": {},
     "output_type": "execute_result"
    }
   ],
   "source": [
    "model.output"
   ]
  },
  {
   "cell_type": "code",
   "execution_count": 75,
   "id": "legal-thing",
   "metadata": {},
   "outputs": [
    {
     "name": "stdout",
     "output_type": "stream",
     "text": [
      "Epoch 1/12\n"
     ]
    },
    {
     "name": "stderr",
     "output_type": "stream",
     "text": [
      "ERROR:plaidml:Compiler::Build> Compilation failure:\n",
      "Compilation failed: \n",
      "\n",
      "program_source:47:7: warning: unused variable 'tid'\n",
      "  int tid = _tid;\n",
      "      ^\n",
      "program_source:97:7: warning: unused variable 'tid'\n",
      "  int tid = _tid;\n",
      "      ^\n",
      "program_source:182:7: warning: unused variable 'tid'\n",
      "  int tid = _tid;\n",
      "      ^\n",
      "program_source:601:9: warning: unused variable 'x0_tid'\n",
      "    int x0_tid = (tid % 32);\n",
      "        ^\n",
      "program_source:886:14: error: assigning to 'bool2' (vector of 2 'bool' values) from incompatible type 'metal::float2' (aka 'float2')\n",
      "    agg[0] = select((float2)agg[0], (float2)agg_rhs, (bool2)c_cond != (bool2)0);\n",
      "             ^~~~~~~~~~~~~~~~~~~~~~~~~~~~~~~~~~~~~~~~~~~~~~~~~~~~~~~~~~~~~~~~~~\n",
      "program_source:3384:7: warning: unused variable 'tid'\n",
      "  int tid = _tid;\n",
      "      ^\n",
      "program_source:3756:9: warning: unused variable 'x1'\n",
      "    int x1 = select((int)0, (int)x1_tid, (int)x1_cond);\n",
      "        ^\n",
      "program_source:3765:11: warning: unused variable 'LX_T173'\n",
      "    float LX_T173 = agg[0];\n",
      "          ^\n",
      "\n",
      "ERROR:plaidml:Compiler::Build> Compilation failure:\n",
      "Compilation failed: \n",
      "\n",
      "program_source:47:7: warning: unused variable 'tid'\n",
      "  int tid = _tid;\n",
      "      ^\n",
      "program_source:97:7: warning: unused variable 'tid'\n",
      "  int tid = _tid;\n",
      "      ^\n",
      "program_source:182:7: warning: unused variable 'tid'\n",
      "  int tid = _tid;\n",
      "      ^\n",
      "program_source:601:9: warning: unused variable 'x0_tid'\n",
      "    int x0_tid = (tid % 32);\n",
      "        ^\n",
      "program_source:886:14: error: assigning to 'bool2' (vector of 2 'bool' values) from incompatible type 'metal::float2' (aka 'float2')\n",
      "    agg[0] = select((float2)agg[0], (float2)agg_rhs, (bool2)c_cond != (bool2)0);\n",
      "             ^~~~~~~~~~~~~~~~~~~~~~~~~~~~~~~~~~~~~~~~~~~~~~~~~~~~~~~~~~~~~~~~~~\n",
      "program_source:3384:7: warning: unused variable 'tid'\n",
      "  int tid = _tid;\n",
      "      ^\n",
      "program_source:3756:9: warning: unused variable 'x1'\n",
      "    int x1 = select((int)0, (int)x1_tid, (int)x1_cond);\n",
      "        ^\n",
      "program_source:3765:11: warning: unused variable 'LX_T173'\n",
      "    float LX_T173 = agg[0];\n",
      "          ^\n",
      "\n"
     ]
    },
    {
     "ename": "Unknown",
     "evalue": "Compilation failed: \n\nprogram_source:47:7: warning: unused variable 'tid'\n  int tid = _tid;\n      ^\nprogram_source:97:7: warning: unused variable 'tid'\n  int tid = _tid;\n      ^\nprogram_source:182:7: warning: unused variable 'tid'\n  int tid = _tid;\n      ^\nprogram_source:601:9: warning: unused variable 'x0_tid'\n    int x0_tid = (tid % 32);\n        ^\nprogram_source:886:14: error: assigning to 'bool2' (vector of 2 'bool' values) from incompatible type 'metal::float2' (aka 'float2')\n    agg[0] = select((float2)agg[0], (float2)agg_rhs, (bool2)c_cond != (bool2)0);\n             ^~~~~~~~~~~~~~~~~~~~~~~~~~~~~~~~~~~~~~~~~~~~~~~~~~~~~~~~~~~~~~~~~~\nprogram_source:3384:7: warning: unused variable 'tid'\n  int tid = _tid;\n      ^\nprogram_source:3756:9: warning: unused variable 'x1'\n    int x1 = select((int)0, (int)x1_tid, (int)x1_cond);\n        ^\nprogram_source:3765:11: warning: unused variable 'LX_T173'\n    float LX_T173 = agg[0];\n          ^\n",
     "output_type": "error",
     "traceback": [
      "\u001b[0;31m---------------------------------------------------------------------------\u001b[0m",
      "\u001b[0;31mUnknown\u001b[0m                                   Traceback (most recent call last)",
      "\u001b[0;32m<ipython-input-75-8caeab155d29>\u001b[0m in \u001b[0;36m<module>\u001b[0;34m\u001b[0m\n\u001b[0;32m----> 1\u001b[0;31m model.fit_generator(train_generator,\n\u001b[0m\u001b[1;32m      2\u001b[0m                     \u001b[0msteps_per_epoch\u001b[0m\u001b[0;34m=\u001b[0m\u001b[0;32mNone\u001b[0m\u001b[0;34m,\u001b[0m\u001b[0;34m\u001b[0m\u001b[0;34m\u001b[0m\u001b[0m\n\u001b[1;32m      3\u001b[0m                     \u001b[0mepochs\u001b[0m\u001b[0;34m=\u001b[0m\u001b[0;36m12\u001b[0m\u001b[0;34m,\u001b[0m\u001b[0;34m\u001b[0m\u001b[0;34m\u001b[0m\u001b[0m\n\u001b[1;32m      4\u001b[0m                     \u001b[0mverbose\u001b[0m\u001b[0;34m=\u001b[0m\u001b[0;36m1\u001b[0m\u001b[0;34m,\u001b[0m\u001b[0;34m\u001b[0m\u001b[0;34m\u001b[0m\u001b[0m\n\u001b[1;32m      5\u001b[0m                     \u001b[0mcallbacks\u001b[0m\u001b[0;34m=\u001b[0m\u001b[0;32mNone\u001b[0m\u001b[0;34m,\u001b[0m\u001b[0;34m\u001b[0m\u001b[0;34m\u001b[0m\u001b[0m\n",
      "\u001b[0;32m~/python_env/plaidml-venv/lib/python3.8/site-packages/keras/legacy/interfaces.py\u001b[0m in \u001b[0;36mwrapper\u001b[0;34m(*args, **kwargs)\u001b[0m\n\u001b[1;32m     89\u001b[0m                 warnings.warn('Update your `' + object_name + '` call to the ' +\n\u001b[1;32m     90\u001b[0m                               'Keras 2 API: ' + signature, stacklevel=2)\n\u001b[0;32m---> 91\u001b[0;31m             \u001b[0;32mreturn\u001b[0m \u001b[0mfunc\u001b[0m\u001b[0;34m(\u001b[0m\u001b[0;34m*\u001b[0m\u001b[0margs\u001b[0m\u001b[0;34m,\u001b[0m \u001b[0;34m**\u001b[0m\u001b[0mkwargs\u001b[0m\u001b[0;34m)\u001b[0m\u001b[0;34m\u001b[0m\u001b[0;34m\u001b[0m\u001b[0m\n\u001b[0m\u001b[1;32m     92\u001b[0m         \u001b[0mwrapper\u001b[0m\u001b[0;34m.\u001b[0m\u001b[0m_original_function\u001b[0m \u001b[0;34m=\u001b[0m \u001b[0mfunc\u001b[0m\u001b[0;34m\u001b[0m\u001b[0;34m\u001b[0m\u001b[0m\n\u001b[1;32m     93\u001b[0m         \u001b[0;32mreturn\u001b[0m \u001b[0mwrapper\u001b[0m\u001b[0;34m\u001b[0m\u001b[0;34m\u001b[0m\u001b[0m\n",
      "\u001b[0;32m~/python_env/plaidml-venv/lib/python3.8/site-packages/keras/engine/training.py\u001b[0m in \u001b[0;36mfit_generator\u001b[0;34m(self, generator, steps_per_epoch, epochs, verbose, callbacks, validation_data, validation_steps, class_weight, max_queue_size, workers, use_multiprocessing, shuffle, initial_epoch)\u001b[0m\n\u001b[1;32m   1403\u001b[0m         \u001b[0;31m`\u001b[0m\u001b[0;31m`\u001b[0m\u001b[0;31m`\u001b[0m\u001b[0;34m\u001b[0m\u001b[0;34m\u001b[0m\u001b[0m\n\u001b[1;32m   1404\u001b[0m         \"\"\"\n\u001b[0;32m-> 1405\u001b[0;31m         return training_generator.fit_generator(\n\u001b[0m\u001b[1;32m   1406\u001b[0m             \u001b[0mself\u001b[0m\u001b[0;34m,\u001b[0m \u001b[0mgenerator\u001b[0m\u001b[0;34m,\u001b[0m\u001b[0;34m\u001b[0m\u001b[0;34m\u001b[0m\u001b[0m\n\u001b[1;32m   1407\u001b[0m             \u001b[0msteps_per_epoch\u001b[0m\u001b[0;34m=\u001b[0m\u001b[0msteps_per_epoch\u001b[0m\u001b[0;34m,\u001b[0m\u001b[0;34m\u001b[0m\u001b[0;34m\u001b[0m\u001b[0m\n",
      "\u001b[0;32m~/python_env/plaidml-venv/lib/python3.8/site-packages/keras/engine/training_generator.py\u001b[0m in \u001b[0;36mfit_generator\u001b[0;34m(model, generator, steps_per_epoch, epochs, verbose, callbacks, validation_data, validation_steps, class_weight, max_queue_size, workers, use_multiprocessing, shuffle, initial_epoch)\u001b[0m\n\u001b[1;32m    213\u001b[0m                 \u001b[0mcallbacks\u001b[0m\u001b[0;34m.\u001b[0m\u001b[0mon_batch_begin\u001b[0m\u001b[0;34m(\u001b[0m\u001b[0mbatch_index\u001b[0m\u001b[0;34m,\u001b[0m \u001b[0mbatch_logs\u001b[0m\u001b[0;34m)\u001b[0m\u001b[0;34m\u001b[0m\u001b[0;34m\u001b[0m\u001b[0m\n\u001b[1;32m    214\u001b[0m \u001b[0;34m\u001b[0m\u001b[0m\n\u001b[0;32m--> 215\u001b[0;31m                 outs = model.train_on_batch(x, y,\n\u001b[0m\u001b[1;32m    216\u001b[0m                                             \u001b[0msample_weight\u001b[0m\u001b[0;34m=\u001b[0m\u001b[0msample_weight\u001b[0m\u001b[0;34m,\u001b[0m\u001b[0;34m\u001b[0m\u001b[0;34m\u001b[0m\u001b[0m\n\u001b[1;32m    217\u001b[0m                                             class_weight=class_weight)\n",
      "\u001b[0;32m~/python_env/plaidml-venv/lib/python3.8/site-packages/keras/engine/training.py\u001b[0m in \u001b[0;36mtrain_on_batch\u001b[0;34m(self, x, y, sample_weight, class_weight)\u001b[0m\n\u001b[1;32m   1215\u001b[0m             \u001b[0mins\u001b[0m \u001b[0;34m=\u001b[0m \u001b[0mx\u001b[0m \u001b[0;34m+\u001b[0m \u001b[0my\u001b[0m \u001b[0;34m+\u001b[0m \u001b[0msample_weights\u001b[0m\u001b[0;34m\u001b[0m\u001b[0;34m\u001b[0m\u001b[0m\n\u001b[1;32m   1216\u001b[0m         \u001b[0mself\u001b[0m\u001b[0;34m.\u001b[0m\u001b[0m_make_train_function\u001b[0m\u001b[0;34m(\u001b[0m\u001b[0;34m)\u001b[0m\u001b[0;34m\u001b[0m\u001b[0;34m\u001b[0m\u001b[0m\n\u001b[0;32m-> 1217\u001b[0;31m         \u001b[0moutputs\u001b[0m \u001b[0;34m=\u001b[0m \u001b[0mself\u001b[0m\u001b[0;34m.\u001b[0m\u001b[0mtrain_function\u001b[0m\u001b[0;34m(\u001b[0m\u001b[0mins\u001b[0m\u001b[0;34m)\u001b[0m\u001b[0;34m\u001b[0m\u001b[0;34m\u001b[0m\u001b[0m\n\u001b[0m\u001b[1;32m   1218\u001b[0m         \u001b[0;32mreturn\u001b[0m \u001b[0munpack_singleton\u001b[0m\u001b[0;34m(\u001b[0m\u001b[0moutputs\u001b[0m\u001b[0;34m)\u001b[0m\u001b[0;34m\u001b[0m\u001b[0;34m\u001b[0m\u001b[0m\n\u001b[1;32m   1219\u001b[0m \u001b[0;34m\u001b[0m\u001b[0m\n",
      "\u001b[0;32m~/python_env/plaidml-venv/lib/python3.8/site-packages/plaidml/keras/backend.py\u001b[0m in \u001b[0;36m__call__\u001b[0;34m(self, inputs)\u001b[0m\n\u001b[1;32m    187\u001b[0m             \u001b[0mself\u001b[0m\u001b[0;34m.\u001b[0m\u001b[0m_invoker\u001b[0m\u001b[0;34m.\u001b[0m\u001b[0mset_output\u001b[0m\u001b[0;34m(\u001b[0m\u001b[0mname\u001b[0m\u001b[0;34m,\u001b[0m \u001b[0mt\u001b[0m\u001b[0;34m)\u001b[0m\u001b[0;34m\u001b[0m\u001b[0;34m\u001b[0m\u001b[0m\n\u001b[1;32m    188\u001b[0m \u001b[0;34m\u001b[0m\u001b[0m\n\u001b[0;32m--> 189\u001b[0;31m         \u001b[0mself\u001b[0m\u001b[0;34m.\u001b[0m\u001b[0m_invoker\u001b[0m\u001b[0;34m.\u001b[0m\u001b[0minvoke\u001b[0m\u001b[0;34m(\u001b[0m\u001b[0;34m)\u001b[0m\u001b[0;34m\u001b[0m\u001b[0;34m\u001b[0m\u001b[0m\n\u001b[0m\u001b[1;32m    190\u001b[0m \u001b[0;34m\u001b[0m\u001b[0m\n\u001b[1;32m    191\u001b[0m         \u001b[0;32mreturn\u001b[0m \u001b[0;34m[\u001b[0m\u001b[0mt\u001b[0m\u001b[0;34m.\u001b[0m\u001b[0mas_ndarray\u001b[0m\u001b[0;34m(\u001b[0m\u001b[0m_ctx\u001b[0m\u001b[0;34m)\u001b[0m \u001b[0;32mfor\u001b[0m \u001b[0mt\u001b[0m \u001b[0;32min\u001b[0m \u001b[0mtensors\u001b[0m\u001b[0;34m]\u001b[0m\u001b[0;34m\u001b[0m\u001b[0;34m\u001b[0m\u001b[0m\n",
      "\u001b[0;32m~/python_env/plaidml-venv/lib/python3.8/site-packages/plaidml/__init__.py\u001b[0m in \u001b[0;36minvoke\u001b[0;34m(self)\u001b[0m\n\u001b[1;32m   1473\u001b[0m \u001b[0;34m\u001b[0m\u001b[0m\n\u001b[1;32m   1474\u001b[0m     \u001b[0;32mdef\u001b[0m \u001b[0minvoke\u001b[0m\u001b[0;34m(\u001b[0m\u001b[0mself\u001b[0m\u001b[0;34m)\u001b[0m\u001b[0;34m:\u001b[0m\u001b[0;34m\u001b[0m\u001b[0;34m\u001b[0m\u001b[0m\n\u001b[0;32m-> 1475\u001b[0;31m         \u001b[0;32mreturn\u001b[0m \u001b[0mInvocation\u001b[0m\u001b[0;34m(\u001b[0m\u001b[0mself\u001b[0m\u001b[0;34m.\u001b[0m\u001b[0m_ctx\u001b[0m\u001b[0;34m,\u001b[0m \u001b[0mself\u001b[0m\u001b[0;34m)\u001b[0m\u001b[0;34m\u001b[0m\u001b[0;34m\u001b[0m\u001b[0m\n\u001b[0m\u001b[1;32m   1476\u001b[0m \u001b[0;34m\u001b[0m\u001b[0m\n\u001b[1;32m   1477\u001b[0m     \u001b[0;32mdef\u001b[0m \u001b[0msave\u001b[0m\u001b[0;34m(\u001b[0m\u001b[0mself\u001b[0m\u001b[0;34m,\u001b[0m \u001b[0mfilename\u001b[0m\u001b[0;34m)\u001b[0m\u001b[0;34m:\u001b[0m\u001b[0;34m\u001b[0m\u001b[0;34m\u001b[0m\u001b[0m\n",
      "\u001b[0;32m~/python_env/plaidml-venv/lib/python3.8/site-packages/plaidml/__init__.py\u001b[0m in \u001b[0;36m__init__\u001b[0;34m(self, ctx, invoker)\u001b[0m\n\u001b[1;32m   1482\u001b[0m \u001b[0;34m\u001b[0m\u001b[0m\n\u001b[1;32m   1483\u001b[0m     \u001b[0;32mdef\u001b[0m \u001b[0m__init__\u001b[0m\u001b[0;34m(\u001b[0m\u001b[0mself\u001b[0m\u001b[0;34m,\u001b[0m \u001b[0mctx\u001b[0m\u001b[0;34m,\u001b[0m \u001b[0minvoker\u001b[0m\u001b[0;34m)\u001b[0m\u001b[0;34m:\u001b[0m\u001b[0;34m\u001b[0m\u001b[0;34m\u001b[0m\u001b[0m\n\u001b[0;32m-> 1484\u001b[0;31m         \u001b[0mself\u001b[0m\u001b[0;34m.\u001b[0m\u001b[0m_as_parameter_\u001b[0m \u001b[0;34m=\u001b[0m \u001b[0m_lib\u001b[0m\u001b[0;34m(\u001b[0m\u001b[0;34m)\u001b[0m\u001b[0;34m.\u001b[0m\u001b[0mplaidml_schedule_invocation\u001b[0m\u001b[0;34m(\u001b[0m\u001b[0mctx\u001b[0m\u001b[0;34m,\u001b[0m \u001b[0minvoker\u001b[0m\u001b[0;34m)\u001b[0m\u001b[0;34m\u001b[0m\u001b[0;34m\u001b[0m\u001b[0m\n\u001b[0m\u001b[1;32m   1485\u001b[0m         \u001b[0mself\u001b[0m\u001b[0;34m.\u001b[0m\u001b[0m_free\u001b[0m \u001b[0;34m=\u001b[0m \u001b[0m_lib\u001b[0m\u001b[0;34m(\u001b[0m\u001b[0;34m)\u001b[0m\u001b[0;34m.\u001b[0m\u001b[0mplaidml_free_invocation\u001b[0m\u001b[0;34m\u001b[0m\u001b[0;34m\u001b[0m\u001b[0m\n\u001b[1;32m   1486\u001b[0m \u001b[0;34m\u001b[0m\u001b[0m\n",
      "\u001b[0;32m~/python_env/plaidml-venv/lib/python3.8/site-packages/plaidml/__init__.py\u001b[0m in \u001b[0;36m_check_err\u001b[0;34m(self, result, func, args)\u001b[0m\n\u001b[1;32m    775\u001b[0m         \u001b[0;32mif\u001b[0m \u001b[0mfunc\u001b[0m \u001b[0;34m==\u001b[0m \u001b[0mself\u001b[0m\u001b[0;34m.\u001b[0m\u001b[0mplaidml_map_buffer_current\u001b[0m \u001b[0;32mand\u001b[0m \u001b[0margs\u001b[0m\u001b[0;34m[\u001b[0m\u001b[0;36m2\u001b[0m\u001b[0;34m]\u001b[0m\u001b[0;34m:\u001b[0m\u001b[0;34m\u001b[0m\u001b[0;34m\u001b[0m\u001b[0m\n\u001b[1;32m    776\u001b[0m             \u001b[0;32mreturn\u001b[0m \u001b[0;32mNone\u001b[0m\u001b[0;34m\u001b[0m\u001b[0;34m\u001b[0m\u001b[0m\n\u001b[0;32m--> 777\u001b[0;31m         \u001b[0mself\u001b[0m\u001b[0;34m.\u001b[0m\u001b[0mraise_last_status\u001b[0m\u001b[0;34m(\u001b[0m\u001b[0;34m)\u001b[0m\u001b[0;34m\u001b[0m\u001b[0;34m\u001b[0m\u001b[0m\n\u001b[0m\u001b[1;32m    778\u001b[0m \u001b[0;34m\u001b[0m\u001b[0m\n\u001b[1;32m    779\u001b[0m \u001b[0;34m\u001b[0m\u001b[0m\n",
      "\u001b[0;32m~/python_env/plaidml-venv/lib/python3.8/site-packages/plaidml/library.py\u001b[0m in \u001b[0;36mraise_last_status\u001b[0;34m(self)\u001b[0m\n\u001b[1;32m    129\u001b[0m \u001b[0;34m\u001b[0m\u001b[0m\n\u001b[1;32m    130\u001b[0m     \u001b[0;32mdef\u001b[0m \u001b[0mraise_last_status\u001b[0m\u001b[0;34m(\u001b[0m\u001b[0mself\u001b[0m\u001b[0;34m)\u001b[0m\u001b[0;34m:\u001b[0m\u001b[0;34m\u001b[0m\u001b[0;34m\u001b[0m\u001b[0m\n\u001b[0;32m--> 131\u001b[0;31m         \u001b[0;32mraise\u001b[0m \u001b[0mself\u001b[0m\u001b[0;34m.\u001b[0m\u001b[0mlast_status\u001b[0m\u001b[0;34m(\u001b[0m\u001b[0;34m)\u001b[0m\u001b[0;34m\u001b[0m\u001b[0;34m\u001b[0m\u001b[0m\n\u001b[0m\u001b[1;32m    132\u001b[0m \u001b[0;34m\u001b[0m\u001b[0m\n\u001b[1;32m    133\u001b[0m     \u001b[0;32mdef\u001b[0m \u001b[0m_logger_callback\u001b[0m\u001b[0;34m(\u001b[0m\u001b[0mself\u001b[0m\u001b[0;34m,\u001b[0m \u001b[0munused_arg\u001b[0m\u001b[0;34m,\u001b[0m \u001b[0mlevel\u001b[0m\u001b[0;34m,\u001b[0m \u001b[0mmsg\u001b[0m\u001b[0;34m)\u001b[0m\u001b[0;34m:\u001b[0m\u001b[0;34m\u001b[0m\u001b[0;34m\u001b[0m\u001b[0m\n",
      "\u001b[0;31mUnknown\u001b[0m: Compilation failed: \n\nprogram_source:47:7: warning: unused variable 'tid'\n  int tid = _tid;\n      ^\nprogram_source:97:7: warning: unused variable 'tid'\n  int tid = _tid;\n      ^\nprogram_source:182:7: warning: unused variable 'tid'\n  int tid = _tid;\n      ^\nprogram_source:601:9: warning: unused variable 'x0_tid'\n    int x0_tid = (tid % 32);\n        ^\nprogram_source:886:14: error: assigning to 'bool2' (vector of 2 'bool' values) from incompatible type 'metal::float2' (aka 'float2')\n    agg[0] = select((float2)agg[0], (float2)agg_rhs, (bool2)c_cond != (bool2)0);\n             ^~~~~~~~~~~~~~~~~~~~~~~~~~~~~~~~~~~~~~~~~~~~~~~~~~~~~~~~~~~~~~~~~~\nprogram_source:3384:7: warning: unused variable 'tid'\n  int tid = _tid;\n      ^\nprogram_source:3756:9: warning: unused variable 'x1'\n    int x1 = select((int)0, (int)x1_tid, (int)x1_cond);\n        ^\nprogram_source:3765:11: warning: unused variable 'LX_T173'\n    float LX_T173 = agg[0];\n          ^\n"
     ]
    }
   ],
   "source": [
    "model.fit_generator(train_generator,\n",
    "                    steps_per_epoch=None,\n",
    "                    epochs=12,\n",
    "                    verbose=1,\n",
    "                    callbacks=None,\n",
    "                    validation_data=None,\n",
    "                    validation_steps=None,\n",
    "                    class_weight=None,\n",
    "                    max_queue_size=10,\n",
    "                    workers=1,\n",
    "                    use_multiprocessing=False,\n",
    "                    shuffle=True,\n",
    "                    initial_epoch=0)"
   ]
  },
  {
   "cell_type": "code",
   "execution_count": 85,
   "id": "bottom-remedy",
   "metadata": {},
   "outputs": [],
   "source": [
    "train_image = np.array(list(map(lambda d: d[0]/255., mnist_train.as_numpy_iterator())))\n",
    "# train_label = np.array(list(map(lambda d: keras.utils.np_utils.to_categorical(d[1], 10), mnist_train.as_numpy_iterator())))\n",
    "train_label = np.array(list(map(lambda d: d[1], mnist_train.as_numpy_iterator())))"
   ]
  },
  {
   "cell_type": "code",
   "execution_count": 86,
   "id": "cooked-detection",
   "metadata": {},
   "outputs": [
    {
     "name": "stdout",
     "output_type": "stream",
     "text": [
      "(60000, 28, 28, 1)\n",
      "(60000,)\n"
     ]
    }
   ],
   "source": [
    "print(train_image.shape)\n",
    "print(train_label.shape)"
   ]
  },
  {
   "cell_type": "code",
   "execution_count": 87,
   "id": "limiting-indian",
   "metadata": {},
   "outputs": [
    {
     "name": "stdout",
     "output_type": "stream",
     "text": [
      "Epoch 1/1\n"
     ]
    },
    {
     "name": "stderr",
     "output_type": "stream",
     "text": [
      "ERROR:plaidml:Compiler::Build> Compilation failure:\n",
      "Compilation failed: \n",
      "\n",
      "program_source:47:7: warning: unused variable 'tid'\n",
      "  int tid = _tid;\n",
      "      ^\n",
      "program_source:97:7: warning: unused variable 'tid'\n",
      "  int tid = _tid;\n",
      "      ^\n",
      "program_source:182:7: warning: unused variable 'tid'\n",
      "  int tid = _tid;\n",
      "      ^\n",
      "program_source:601:9: warning: unused variable 'x0_tid'\n",
      "    int x0_tid = (tid % 32);\n",
      "        ^\n",
      "program_source:886:14: error: assigning to 'bool2' (vector of 2 'bool' values) from incompatible type 'metal::float2' (aka 'float2')\n",
      "    agg[0] = select((float2)agg[0], (float2)agg_rhs, (bool2)c_cond != (bool2)0);\n",
      "             ^~~~~~~~~~~~~~~~~~~~~~~~~~~~~~~~~~~~~~~~~~~~~~~~~~~~~~~~~~~~~~~~~~\n",
      "program_source:3384:7: warning: unused variable 'tid'\n",
      "  int tid = _tid;\n",
      "      ^\n",
      "program_source:3756:9: warning: unused variable 'x1'\n",
      "    int x1 = select((int)0, (int)x1_tid, (int)x1_cond);\n",
      "        ^\n",
      "program_source:3765:11: warning: unused variable 'LX_T173'\n",
      "    float LX_T173 = agg[0];\n",
      "          ^\n",
      "\n",
      "ERROR:plaidml:Compiler::Build> Compilation failure:\n",
      "Compilation failed: \n",
      "\n",
      "program_source:47:7: warning: unused variable 'tid'\n",
      "  int tid = _tid;\n",
      "      ^\n",
      "program_source:97:7: warning: unused variable 'tid'\n",
      "  int tid = _tid;\n",
      "      ^\n",
      "program_source:182:7: warning: unused variable 'tid'\n",
      "  int tid = _tid;\n",
      "      ^\n",
      "program_source:601:9: warning: unused variable 'x0_tid'\n",
      "    int x0_tid = (tid % 32);\n",
      "        ^\n",
      "program_source:886:14: error: assigning to 'bool2' (vector of 2 'bool' values) from incompatible type 'metal::float2' (aka 'float2')\n",
      "    agg[0] = select((float2)agg[0], (float2)agg_rhs, (bool2)c_cond != (bool2)0);\n",
      "             ^~~~~~~~~~~~~~~~~~~~~~~~~~~~~~~~~~~~~~~~~~~~~~~~~~~~~~~~~~~~~~~~~~\n",
      "program_source:3384:7: warning: unused variable 'tid'\n",
      "  int tid = _tid;\n",
      "      ^\n",
      "program_source:3756:9: warning: unused variable 'x1'\n",
      "    int x1 = select((int)0, (int)x1_tid, (int)x1_cond);\n",
      "        ^\n",
      "program_source:3765:11: warning: unused variable 'LX_T173'\n",
      "    float LX_T173 = agg[0];\n",
      "          ^\n",
      "\n"
     ]
    },
    {
     "ename": "Unknown",
     "evalue": "Compilation failed: \n\nprogram_source:47:7: warning: unused variable 'tid'\n  int tid = _tid;\n      ^\nprogram_source:97:7: warning: unused variable 'tid'\n  int tid = _tid;\n      ^\nprogram_source:182:7: warning: unused variable 'tid'\n  int tid = _tid;\n      ^\nprogram_source:601:9: warning: unused variable 'x0_tid'\n    int x0_tid = (tid % 32);\n        ^\nprogram_source:886:14: error: assigning to 'bool2' (vector of 2 'bool' values) from incompatible type 'metal::float2' (aka 'float2')\n    agg[0] = select((float2)agg[0], (float2)agg_rhs, (bool2)c_cond != (bool2)0);\n             ^~~~~~~~~~~~~~~~~~~~~~~~~~~~~~~~~~~~~~~~~~~~~~~~~~~~~~~~~~~~~~~~~~\nprogram_source:3384:7: warning: unused variable 'tid'\n  int tid = _tid;\n      ^\nprogram_source:3756:9: warning: unused variable 'x1'\n    int x1 = select((int)0, (int)x1_tid, (int)x1_cond);\n        ^\nprogram_source:3765:11: warning: unused variable 'LX_T173'\n    float LX_T173 = agg[0];\n          ^\n",
     "output_type": "error",
     "traceback": [
      "\u001b[0;31m---------------------------------------------------------------------------\u001b[0m",
      "\u001b[0;31mUnknown\u001b[0m                                   Traceback (most recent call last)",
      "\u001b[0;32m<ipython-input-87-df555dc1dab8>\u001b[0m in \u001b[0;36m<module>\u001b[0;34m\u001b[0m\n\u001b[0;32m----> 1\u001b[0;31m \u001b[0mmodel\u001b[0m\u001b[0;34m.\u001b[0m\u001b[0mfit\u001b[0m\u001b[0;34m(\u001b[0m\u001b[0mtrain_image\u001b[0m\u001b[0;34m,\u001b[0m \u001b[0mtrain_label\u001b[0m\u001b[0;34m)\u001b[0m\u001b[0;34m\u001b[0m\u001b[0;34m\u001b[0m\u001b[0m\n\u001b[0m",
      "\u001b[0;32m~/python_env/plaidml-venv/lib/python3.8/site-packages/keras/engine/training.py\u001b[0m in \u001b[0;36mfit\u001b[0;34m(self, x, y, batch_size, epochs, verbose, callbacks, validation_split, validation_data, shuffle, class_weight, sample_weight, initial_epoch, steps_per_epoch, validation_steps, **kwargs)\u001b[0m\n\u001b[1;32m   1025\u001b[0m \u001b[0;34m\u001b[0m\u001b[0m\n\u001b[1;32m   1026\u001b[0m         \u001b[0;31m# Delegate logic to `fit_loop`.\u001b[0m\u001b[0;34m\u001b[0m\u001b[0;34m\u001b[0m\u001b[0;34m\u001b[0m\u001b[0m\n\u001b[0;32m-> 1027\u001b[0;31m         return training_arrays.fit_loop(self, f, ins,\n\u001b[0m\u001b[1;32m   1028\u001b[0m                                         \u001b[0mout_labels\u001b[0m\u001b[0;34m=\u001b[0m\u001b[0mout_labels\u001b[0m\u001b[0;34m,\u001b[0m\u001b[0;34m\u001b[0m\u001b[0;34m\u001b[0m\u001b[0m\n\u001b[1;32m   1029\u001b[0m                                         \u001b[0mbatch_size\u001b[0m\u001b[0;34m=\u001b[0m\u001b[0mbatch_size\u001b[0m\u001b[0;34m,\u001b[0m\u001b[0;34m\u001b[0m\u001b[0;34m\u001b[0m\u001b[0m\n",
      "\u001b[0;32m~/python_env/plaidml-venv/lib/python3.8/site-packages/keras/engine/training_arrays.py\u001b[0m in \u001b[0;36mfit_loop\u001b[0;34m(model, f, ins, out_labels, batch_size, epochs, verbose, callbacks, val_f, val_ins, shuffle, callback_metrics, initial_epoch, steps_per_epoch, validation_steps)\u001b[0m\n\u001b[1;32m    197\u001b[0m                     \u001b[0mins_batch\u001b[0m\u001b[0;34m[\u001b[0m\u001b[0mi\u001b[0m\u001b[0;34m]\u001b[0m \u001b[0;34m=\u001b[0m \u001b[0mins_batch\u001b[0m\u001b[0;34m[\u001b[0m\u001b[0mi\u001b[0m\u001b[0;34m]\u001b[0m\u001b[0;34m.\u001b[0m\u001b[0mtoarray\u001b[0m\u001b[0;34m(\u001b[0m\u001b[0;34m)\u001b[0m\u001b[0;34m\u001b[0m\u001b[0;34m\u001b[0m\u001b[0m\n\u001b[1;32m    198\u001b[0m \u001b[0;34m\u001b[0m\u001b[0m\n\u001b[0;32m--> 199\u001b[0;31m                 \u001b[0mouts\u001b[0m \u001b[0;34m=\u001b[0m \u001b[0mf\u001b[0m\u001b[0;34m(\u001b[0m\u001b[0mins_batch\u001b[0m\u001b[0;34m)\u001b[0m\u001b[0;34m\u001b[0m\u001b[0;34m\u001b[0m\u001b[0m\n\u001b[0m\u001b[1;32m    200\u001b[0m                 \u001b[0mouts\u001b[0m \u001b[0;34m=\u001b[0m \u001b[0mto_list\u001b[0m\u001b[0;34m(\u001b[0m\u001b[0mouts\u001b[0m\u001b[0;34m)\u001b[0m\u001b[0;34m\u001b[0m\u001b[0;34m\u001b[0m\u001b[0m\n\u001b[1;32m    201\u001b[0m                 \u001b[0;32mfor\u001b[0m \u001b[0ml\u001b[0m\u001b[0;34m,\u001b[0m \u001b[0mo\u001b[0m \u001b[0;32min\u001b[0m \u001b[0mzip\u001b[0m\u001b[0;34m(\u001b[0m\u001b[0mout_labels\u001b[0m\u001b[0;34m,\u001b[0m \u001b[0mouts\u001b[0m\u001b[0;34m)\u001b[0m\u001b[0;34m:\u001b[0m\u001b[0;34m\u001b[0m\u001b[0;34m\u001b[0m\u001b[0m\n",
      "\u001b[0;32m~/python_env/plaidml-venv/lib/python3.8/site-packages/plaidml/keras/backend.py\u001b[0m in \u001b[0;36m__call__\u001b[0;34m(self, inputs)\u001b[0m\n\u001b[1;32m    187\u001b[0m             \u001b[0mself\u001b[0m\u001b[0;34m.\u001b[0m\u001b[0m_invoker\u001b[0m\u001b[0;34m.\u001b[0m\u001b[0mset_output\u001b[0m\u001b[0;34m(\u001b[0m\u001b[0mname\u001b[0m\u001b[0;34m,\u001b[0m \u001b[0mt\u001b[0m\u001b[0;34m)\u001b[0m\u001b[0;34m\u001b[0m\u001b[0;34m\u001b[0m\u001b[0m\n\u001b[1;32m    188\u001b[0m \u001b[0;34m\u001b[0m\u001b[0m\n\u001b[0;32m--> 189\u001b[0;31m         \u001b[0mself\u001b[0m\u001b[0;34m.\u001b[0m\u001b[0m_invoker\u001b[0m\u001b[0;34m.\u001b[0m\u001b[0minvoke\u001b[0m\u001b[0;34m(\u001b[0m\u001b[0;34m)\u001b[0m\u001b[0;34m\u001b[0m\u001b[0;34m\u001b[0m\u001b[0m\n\u001b[0m\u001b[1;32m    190\u001b[0m \u001b[0;34m\u001b[0m\u001b[0m\n\u001b[1;32m    191\u001b[0m         \u001b[0;32mreturn\u001b[0m \u001b[0;34m[\u001b[0m\u001b[0mt\u001b[0m\u001b[0;34m.\u001b[0m\u001b[0mas_ndarray\u001b[0m\u001b[0;34m(\u001b[0m\u001b[0m_ctx\u001b[0m\u001b[0;34m)\u001b[0m \u001b[0;32mfor\u001b[0m \u001b[0mt\u001b[0m \u001b[0;32min\u001b[0m \u001b[0mtensors\u001b[0m\u001b[0;34m]\u001b[0m\u001b[0;34m\u001b[0m\u001b[0;34m\u001b[0m\u001b[0m\n",
      "\u001b[0;32m~/python_env/plaidml-venv/lib/python3.8/site-packages/plaidml/__init__.py\u001b[0m in \u001b[0;36minvoke\u001b[0;34m(self)\u001b[0m\n\u001b[1;32m   1473\u001b[0m \u001b[0;34m\u001b[0m\u001b[0m\n\u001b[1;32m   1474\u001b[0m     \u001b[0;32mdef\u001b[0m \u001b[0minvoke\u001b[0m\u001b[0;34m(\u001b[0m\u001b[0mself\u001b[0m\u001b[0;34m)\u001b[0m\u001b[0;34m:\u001b[0m\u001b[0;34m\u001b[0m\u001b[0;34m\u001b[0m\u001b[0m\n\u001b[0;32m-> 1475\u001b[0;31m         \u001b[0;32mreturn\u001b[0m \u001b[0mInvocation\u001b[0m\u001b[0;34m(\u001b[0m\u001b[0mself\u001b[0m\u001b[0;34m.\u001b[0m\u001b[0m_ctx\u001b[0m\u001b[0;34m,\u001b[0m \u001b[0mself\u001b[0m\u001b[0;34m)\u001b[0m\u001b[0;34m\u001b[0m\u001b[0;34m\u001b[0m\u001b[0m\n\u001b[0m\u001b[1;32m   1476\u001b[0m \u001b[0;34m\u001b[0m\u001b[0m\n\u001b[1;32m   1477\u001b[0m     \u001b[0;32mdef\u001b[0m \u001b[0msave\u001b[0m\u001b[0;34m(\u001b[0m\u001b[0mself\u001b[0m\u001b[0;34m,\u001b[0m \u001b[0mfilename\u001b[0m\u001b[0;34m)\u001b[0m\u001b[0;34m:\u001b[0m\u001b[0;34m\u001b[0m\u001b[0;34m\u001b[0m\u001b[0m\n",
      "\u001b[0;32m~/python_env/plaidml-venv/lib/python3.8/site-packages/plaidml/__init__.py\u001b[0m in \u001b[0;36m__init__\u001b[0;34m(self, ctx, invoker)\u001b[0m\n\u001b[1;32m   1482\u001b[0m \u001b[0;34m\u001b[0m\u001b[0m\n\u001b[1;32m   1483\u001b[0m     \u001b[0;32mdef\u001b[0m \u001b[0m__init__\u001b[0m\u001b[0;34m(\u001b[0m\u001b[0mself\u001b[0m\u001b[0;34m,\u001b[0m \u001b[0mctx\u001b[0m\u001b[0;34m,\u001b[0m \u001b[0minvoker\u001b[0m\u001b[0;34m)\u001b[0m\u001b[0;34m:\u001b[0m\u001b[0;34m\u001b[0m\u001b[0;34m\u001b[0m\u001b[0m\n\u001b[0;32m-> 1484\u001b[0;31m         \u001b[0mself\u001b[0m\u001b[0;34m.\u001b[0m\u001b[0m_as_parameter_\u001b[0m \u001b[0;34m=\u001b[0m \u001b[0m_lib\u001b[0m\u001b[0;34m(\u001b[0m\u001b[0;34m)\u001b[0m\u001b[0;34m.\u001b[0m\u001b[0mplaidml_schedule_invocation\u001b[0m\u001b[0;34m(\u001b[0m\u001b[0mctx\u001b[0m\u001b[0;34m,\u001b[0m \u001b[0minvoker\u001b[0m\u001b[0;34m)\u001b[0m\u001b[0;34m\u001b[0m\u001b[0;34m\u001b[0m\u001b[0m\n\u001b[0m\u001b[1;32m   1485\u001b[0m         \u001b[0mself\u001b[0m\u001b[0;34m.\u001b[0m\u001b[0m_free\u001b[0m \u001b[0;34m=\u001b[0m \u001b[0m_lib\u001b[0m\u001b[0;34m(\u001b[0m\u001b[0;34m)\u001b[0m\u001b[0;34m.\u001b[0m\u001b[0mplaidml_free_invocation\u001b[0m\u001b[0;34m\u001b[0m\u001b[0;34m\u001b[0m\u001b[0m\n\u001b[1;32m   1486\u001b[0m \u001b[0;34m\u001b[0m\u001b[0m\n",
      "\u001b[0;32m~/python_env/plaidml-venv/lib/python3.8/site-packages/plaidml/__init__.py\u001b[0m in \u001b[0;36m_check_err\u001b[0;34m(self, result, func, args)\u001b[0m\n\u001b[1;32m    775\u001b[0m         \u001b[0;32mif\u001b[0m \u001b[0mfunc\u001b[0m \u001b[0;34m==\u001b[0m \u001b[0mself\u001b[0m\u001b[0;34m.\u001b[0m\u001b[0mplaidml_map_buffer_current\u001b[0m \u001b[0;32mand\u001b[0m \u001b[0margs\u001b[0m\u001b[0;34m[\u001b[0m\u001b[0;36m2\u001b[0m\u001b[0;34m]\u001b[0m\u001b[0;34m:\u001b[0m\u001b[0;34m\u001b[0m\u001b[0;34m\u001b[0m\u001b[0m\n\u001b[1;32m    776\u001b[0m             \u001b[0;32mreturn\u001b[0m \u001b[0;32mNone\u001b[0m\u001b[0;34m\u001b[0m\u001b[0;34m\u001b[0m\u001b[0m\n\u001b[0;32m--> 777\u001b[0;31m         \u001b[0mself\u001b[0m\u001b[0;34m.\u001b[0m\u001b[0mraise_last_status\u001b[0m\u001b[0;34m(\u001b[0m\u001b[0;34m)\u001b[0m\u001b[0;34m\u001b[0m\u001b[0;34m\u001b[0m\u001b[0m\n\u001b[0m\u001b[1;32m    778\u001b[0m \u001b[0;34m\u001b[0m\u001b[0m\n\u001b[1;32m    779\u001b[0m \u001b[0;34m\u001b[0m\u001b[0m\n",
      "\u001b[0;32m~/python_env/plaidml-venv/lib/python3.8/site-packages/plaidml/library.py\u001b[0m in \u001b[0;36mraise_last_status\u001b[0;34m(self)\u001b[0m\n\u001b[1;32m    129\u001b[0m \u001b[0;34m\u001b[0m\u001b[0m\n\u001b[1;32m    130\u001b[0m     \u001b[0;32mdef\u001b[0m \u001b[0mraise_last_status\u001b[0m\u001b[0;34m(\u001b[0m\u001b[0mself\u001b[0m\u001b[0;34m)\u001b[0m\u001b[0;34m:\u001b[0m\u001b[0;34m\u001b[0m\u001b[0;34m\u001b[0m\u001b[0m\n\u001b[0;32m--> 131\u001b[0;31m         \u001b[0;32mraise\u001b[0m \u001b[0mself\u001b[0m\u001b[0;34m.\u001b[0m\u001b[0mlast_status\u001b[0m\u001b[0;34m(\u001b[0m\u001b[0;34m)\u001b[0m\u001b[0;34m\u001b[0m\u001b[0;34m\u001b[0m\u001b[0m\n\u001b[0m\u001b[1;32m    132\u001b[0m \u001b[0;34m\u001b[0m\u001b[0m\n\u001b[1;32m    133\u001b[0m     \u001b[0;32mdef\u001b[0m \u001b[0m_logger_callback\u001b[0m\u001b[0;34m(\u001b[0m\u001b[0mself\u001b[0m\u001b[0;34m,\u001b[0m \u001b[0munused_arg\u001b[0m\u001b[0;34m,\u001b[0m \u001b[0mlevel\u001b[0m\u001b[0;34m,\u001b[0m \u001b[0mmsg\u001b[0m\u001b[0;34m)\u001b[0m\u001b[0;34m:\u001b[0m\u001b[0;34m\u001b[0m\u001b[0;34m\u001b[0m\u001b[0m\n",
      "\u001b[0;31mUnknown\u001b[0m: Compilation failed: \n\nprogram_source:47:7: warning: unused variable 'tid'\n  int tid = _tid;\n      ^\nprogram_source:97:7: warning: unused variable 'tid'\n  int tid = _tid;\n      ^\nprogram_source:182:7: warning: unused variable 'tid'\n  int tid = _tid;\n      ^\nprogram_source:601:9: warning: unused variable 'x0_tid'\n    int x0_tid = (tid % 32);\n        ^\nprogram_source:886:14: error: assigning to 'bool2' (vector of 2 'bool' values) from incompatible type 'metal::float2' (aka 'float2')\n    agg[0] = select((float2)agg[0], (float2)agg_rhs, (bool2)c_cond != (bool2)0);\n             ^~~~~~~~~~~~~~~~~~~~~~~~~~~~~~~~~~~~~~~~~~~~~~~~~~~~~~~~~~~~~~~~~~\nprogram_source:3384:7: warning: unused variable 'tid'\n  int tid = _tid;\n      ^\nprogram_source:3756:9: warning: unused variable 'x1'\n    int x1 = select((int)0, (int)x1_tid, (int)x1_cond);\n        ^\nprogram_source:3765:11: warning: unused variable 'LX_T173'\n    float LX_T173 = agg[0];\n          ^\n"
     ]
    }
   ],
   "source": [
    "model.fit(train_image, train_label)"
   ]
  },
  {
   "cell_type": "code",
   "execution_count": 88,
   "id": "determined-debate",
   "metadata": {},
   "outputs": [
    {
     "name": "stdout",
     "output_type": "stream",
     "text": [
      "[[0.10122783 0.089098   0.08580226 0.09582903 0.09731039 0.10844275\n",
      "  0.10778651 0.09073113 0.12372182 0.10005023]]\n"
     ]
    }
   ],
   "source": [
    "print(model.predict(train_image[-2:-1]))"
   ]
  },
  {
   "cell_type": "code",
   "execution_count": null,
   "id": "hazardous-treasurer",
   "metadata": {},
   "outputs": [],
   "source": []
  }
 ],
 "metadata": {
  "kernelspec": {
   "display_name": "plaidml_venv",
   "language": "python",
   "name": "plaidml_venv"
  },
  "language_info": {
   "codemirror_mode": {
    "name": "ipython",
    "version": 3
   },
   "file_extension": ".py",
   "mimetype": "text/x-python",
   "name": "python",
   "nbconvert_exporter": "python",
   "pygments_lexer": "ipython3",
   "version": "3.8.7"
  }
 },
 "nbformat": 4,
 "nbformat_minor": 5
}

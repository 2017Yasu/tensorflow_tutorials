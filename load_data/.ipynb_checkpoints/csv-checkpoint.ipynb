{
 "cells": [
  {
   "cell_type": "markdown",
   "id": "small-motion",
   "metadata": {},
   "source": [
    "# [CSVデータを読み込む](https://www.tensorflow.org/tutorials/load_data/csv)"
   ]
  },
  {
   "cell_type": "markdown",
   "id": "professional-caribbean",
   "metadata": {},
   "source": [
    "TensorFlowを使ってCSVデータを読み込む方法。大きく分けて二つのステップからなる。\n",
    "\n",
    "1. ディスクからデータを読み込む\n",
    "2. データに対して事前処理を行い学習し易い形に変換する（詳細は[preprocessing layers guide](https://www.tensorflow.org/guide/keras/preprocessing_layers#quick_recipes)と[tutorial](https://www.tensorflow.org/tutorials/structured_data/preprocessing_layers)）"
   ]
  },
  {
   "cell_type": "code",
   "execution_count": 1,
   "id": "private-platinum",
   "metadata": {},
   "outputs": [],
   "source": [
    "import pandas as pd\n",
    "import numpy as np\n",
    "\n",
    "# Make numpy values easier to read.\n",
    "np.set_printoptions(precision=3, suppress=True)\n",
    "\n",
    "import tensorflow as tf\n",
    "from tensorflow.keras import layers\n",
    "from tensorflow.keras.layers.experimental import preprocessing"
   ]
  },
  {
   "cell_type": "code",
   "execution_count": null,
   "id": "considered-dance",
   "metadata": {},
   "outputs": [],
   "source": []
  }
 ],
 "metadata": {
  "kernelspec": {
   "display_name": "Python 3",
   "language": "python",
   "name": "python3"
  },
  "language_info": {
   "codemirror_mode": {
    "name": "ipython",
    "version": 3
   },
   "file_extension": ".py",
   "mimetype": "text/x-python",
   "name": "python",
   "nbconvert_exporter": "python",
   "pygments_lexer": "ipython3",
   "version": "3.8.7"
  }
 },
 "nbformat": 4,
 "nbformat_minor": 5
}

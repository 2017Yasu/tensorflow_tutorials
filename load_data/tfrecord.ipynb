{
 "cells": [
  {
   "cell_type": "markdown",
   "id": "narrative-program",
   "metadata": {},
   "source": [
    "# [TFRecordとtf.train.Example](https://www.tensorflow.org/tutorials/load_data/tfrecord)\n",
    "\n",
    "TFRecordはバイナリレコードの配列を保存する簡単なフォーマットである。[Protocol buffers](https://developers.google.com/protocol-buffers/)はプラットフォーム横断、言語横断可能なライブラリで、構造データを効率的にシリアル化できる。プロトコルのメッセージは`.proto`ファイルに定義されており、メッセージのタイプを知るのに最も簡単な方法である。\n",
    "\n",
    "`tf.train.Example`メッセージ（またはprotobuf）は柔軟なメッセージタイプで`{\"string\": value}`マッピングを表す。TensorFlowやハイレベルなAPIで利用することを想定してデザインされている。\n",
    "\n",
    "ここでは、`tf.train.Example`メッセージをどのように作成、分析、利用するか、そしてそのメッセージをどのようにシリアル化、書き込み、読み込みを行うかを実験する。"
   ]
  },
  {
   "cell_type": "code",
   "execution_count": 1,
   "id": "palestinian-disaster",
   "metadata": {},
   "outputs": [],
   "source": [
    "import tensorflow as tf\n",
    "\n",
    "import numpy as np\n",
    "import IPython.display as display"
   ]
  },
  {
   "cell_type": "code",
   "execution_count": null,
   "id": "experienced-characteristic",
   "metadata": {},
   "outputs": [],
   "source": []
  }
 ],
 "metadata": {
  "kernelspec": {
   "display_name": "Python 3",
   "language": "python",
   "name": "python3"
  },
  "language_info": {
   "codemirror_mode": {
    "name": "ipython",
    "version": 3
   },
   "file_extension": ".py",
   "mimetype": "text/x-python",
   "name": "python",
   "nbconvert_exporter": "python",
   "pygments_lexer": "ipython3",
   "version": "3.8.7"
  }
 },
 "nbformat": 4,
 "nbformat_minor": 5
}

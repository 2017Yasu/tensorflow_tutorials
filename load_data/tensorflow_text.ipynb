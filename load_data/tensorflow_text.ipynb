{
 "cells": [
  {
   "cell_type": "markdown",
   "id": "unusual-portugal",
   "metadata": {},
   "source": [
    "# [TF.Text](https://www.tensorflow.org/tutorials/tensorflow_text/intro)"
   ]
  },
  {
   "cell_type": "code",
   "execution_count": 1,
   "id": "worse-convention",
   "metadata": {},
   "outputs": [],
   "source": [
    "import tensorflow as tf\n",
    "import tensorflow_text as text"
   ]
  },
  {
   "cell_type": "code",
   "execution_count": null,
   "id": "charitable-cache",
   "metadata": {},
   "outputs": [],
   "source": []
  }
 ],
 "metadata": {
  "kernelspec": {
   "display_name": "Python 3",
   "language": "python",
   "name": "python3"
  },
  "language_info": {
   "codemirror_mode": {
    "name": "ipython",
    "version": 3
   },
   "file_extension": ".py",
   "mimetype": "text/x-python",
   "name": "python",
   "nbconvert_exporter": "python",
   "pygments_lexer": "ipython3",
   "version": "3.8.7"
  }
 },
 "nbformat": 4,
 "nbformat_minor": 5
}

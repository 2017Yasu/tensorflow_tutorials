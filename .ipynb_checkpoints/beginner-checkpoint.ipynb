{
 "cells": [
  {
   "cell_type": "code",
   "execution_count": 1,
   "id": "representative-madrid",
   "metadata": {},
   "outputs": [],
   "source": [
    "import tensorflow as tf"
   ]
  },
  {
   "cell_type": "code",
   "execution_count": 2,
   "id": "worst-thriller",
   "metadata": {},
   "outputs": [
    {
     "data": {
      "text/plain": [
       "'2.4.1'"
      ]
     },
     "execution_count": 2,
     "metadata": {},
     "output_type": "execute_result"
    }
   ],
   "source": [
    "tf.__version__"
   ]
  },
  {
   "cell_type": "markdown",
   "id": "stable-penetration",
   "metadata": {},
   "source": [
    "MNISTデータセット（手書き文字）をロード。サンプルを整数から浮動小数点数に変換。"
   ]
  },
  {
   "cell_type": "code",
   "execution_count": 3,
   "id": "enclosed-winter",
   "metadata": {},
   "outputs": [],
   "source": [
    "tf.keras.backend.set_floatx('float64')"
   ]
  },
  {
   "cell_type": "code",
   "execution_count": 4,
   "id": "after-admission",
   "metadata": {},
   "outputs": [
    {
     "name": "stdout",
     "output_type": "stream",
     "text": [
      "Downloading data from https://storage.googleapis.com/tensorflow/tf-keras-datasets/mnist.npz\n",
      "11493376/11490434 [==============================] - 1s 0us/step\n"
     ]
    }
   ],
   "source": [
    "mnist = tf.keras.datasets.mnist\n",
    "(x_train, y_train), (x_test, y_test) = mnist.load_data()\n",
    "x_train, x_test = x_train / 255.0, x_test / 255.0"
   ]
  },
  {
   "cell_type": "markdown",
   "id": "colored-dating",
   "metadata": {},
   "source": [
    "層を積み重ねて`tf.keras.Sequential`モデルを構築。訓練のための**オプティマイザ**と**損失関数**を選択。"
   ]
  },
  {
   "cell_type": "markdown",
   "id": "global-prior",
   "metadata": {},
   "source": [
    "ReLU\n",
    "$$\n",
    "f(x) = \\left\\{\n",
    "\\begin{array}{ll}\n",
    "0 & x \\leq 0 \\\\\n",
    "x & x > 0\n",
    "\\end{array}\\right.\n",
    "$$\n",
    "\n",
    "$$\n",
    "f'(x) = \\left\\{\n",
    "\\begin{array}{ll}\n",
    "0 & x \\leq 0 \\\\\n",
    "1 & x > 0\n",
    "\\end{array}\\right.\n",
    "$$"
   ]
  },
  {
   "cell_type": "markdown",
   "id": "saved-finder",
   "metadata": {},
   "source": [
    "- 平にする層（`Flatten()`）：入力値を1次元ベクトルにする。\n",
    "- 普通の層（`Dense(units)`）：$\\vec{x_{out}} = f(W \\vec{x_{in}} + \\vec{b})$を計算する。$f(\\cdot)$は活性化関数、$W$は重み行列、$\\vec{x_{in}}$は入力ベクトル、$\\vec{b}$はバイアスベクトルを表す。`units`は出力ベクトルの値の数（ノード数）を表す。\n",
    "- ドロップアウト層（`Dropout(rate)`）：出力を与えられた確率で0にする。一部のデータが欠損していても正しく認識ができるようになる。これにより、画像の一部の局所特徴が過剰に評価されてしまうのを防ぎ、モデルのロバストさを向上させることができます。"
   ]
  },
  {
   "cell_type": "code",
   "execution_count": 5,
   "id": "sixth-consumption",
   "metadata": {},
   "outputs": [],
   "source": [
    "model = tf.keras.models.Sequential([\n",
    "    tf.keras.layers.Flatten(input_shape=(28, 28)),\n",
    "    tf.keras.layers.Dense(128, activation='relu'),\n",
    "    tf.keras.layers.Dropout(0.2),\n",
    "    tf.keras.layers.Dense(10)\n",
    "])"
   ]
  },
  {
   "cell_type": "markdown",
   "id": "absolute-seventh",
   "metadata": {},
   "source": [
    "`model`はそれぞれの標本についてクラスごとに**ロジット**や**対数オッズ比**と呼ばれるスコアを算出する。"
   ]
  },
  {
   "cell_type": "markdown",
   "id": "signed-living",
   "metadata": {},
   "source": [
    "- オッズ：ある事象の起こる確率 $p$ と起こらない確率 $1 − p$ との比 $p / (1 − p)$ のこと。（成功回数）／（失敗回数）\n",
    "- ロジット：オッズの対数値"
   ]
  },
  {
   "cell_type": "code",
   "execution_count": 6,
   "id": "pleased-arrangement",
   "metadata": {},
   "outputs": [
    {
     "data": {
      "text/plain": [
       "array([[ 0.09289226, -0.37868353, -0.65236805,  0.65894349, -0.09873008,\n",
       "        -0.15449719,  0.13402049, -0.1240976 ,  1.38838583,  0.02897097]])"
      ]
     },
     "execution_count": 6,
     "metadata": {},
     "output_type": "execute_result"
    }
   ],
   "source": [
    "predictions = model(x_train[:1]).numpy()\n",
    "predictions"
   ]
  },
  {
   "cell_type": "markdown",
   "id": "considered-impossible",
   "metadata": {},
   "source": [
    "`tf.nn.softmax`関数はクラスごとにこれらのロジットを確率に変換する。"
   ]
  },
  {
   "cell_type": "markdown",
   "id": "domestic-january",
   "metadata": {},
   "source": [
    "softmax function ($i = 1, 2, \\ldots, n$)\n",
    "$$\n",
    "y_i = \\frac{e^{x_i}}{\\sum_{k=1}^{n} e^{x_k}}\n",
    "$$\n",
    "\n",
    "$$\n",
    "\\frac{\\partial y_i}{\\partial x_j} = \\left\\{\n",
    "\\begin{array}{ll}\n",
    "y_i(1-y_j) & (i = j) \\\\\n",
    "-y_j y_i & (i \\neq j)\n",
    "\\end{array}\n",
    "\\right.\n",
    "$$"
   ]
  },
  {
   "cell_type": "code",
   "execution_count": 7,
   "id": "honest-russian",
   "metadata": {},
   "outputs": [
    {
     "data": {
      "text/plain": [
       "array([[0.08400408, 0.05242007, 0.03986924, 0.14795625, 0.06935533,\n",
       "        0.06559346, 0.08753105, 0.06761809, 0.30684998, 0.07880245]])"
      ]
     },
     "execution_count": 7,
     "metadata": {},
     "output_type": "execute_result"
    }
   ],
   "source": [
    "tf.nn.softmax(predictions).numpy()"
   ]
  },
  {
   "cell_type": "markdown",
   "id": "imperial-operator",
   "metadata": {},
   "source": [
    "損失関数（出力値と正解値との差（距離））`losses.SparseCategoricalCrossentropy`：\n",
    "\n",
    "ラベルの種類が二つ以上ある場合に使う交差エントロピー関数（教師ラベルは整数値とする）。推定値は各ラベルに当てはまりうる確率を示したベクトル。\n",
    "$$\n",
    "H(p, q) = -\\sum_{x} p(x) log(q(x))\n",
    "$$\n",
    "$p$は真の確率分布、$q$は推定した確率分布。`y_true`は標本数分のラベルのリスト、`y_pred`は(標本数)$\\times$(ラベルの種類数)分の確率分布行列。それぞれの標本についてクラスごとに損失のスカラーを出力。"
   ]
  },
  {
   "cell_type": "code",
   "execution_count": 8,
   "id": "elementary-lying",
   "metadata": {},
   "outputs": [],
   "source": [
    "loss_fn = tf.keras.losses.SparseCategoricalCrossentropy(from_logits=True)"
   ]
  },
  {
   "cell_type": "markdown",
   "id": "comparable-liver",
   "metadata": {},
   "source": [
    "この損失は、クラスが正しい確率の対数をとって符号を反転させたもの。この値はモデルがこのクラスが正しいと確信している場合 0 。\n",
    "\n",
    "この訓練されていないモデルはランダムに近い確率 (それぞれのクラスについて 1/10) を出力、最初の損失は `-tf.log(1/10) ~= 2.3` に近い値になるはず。"
   ]
  },
  {
   "cell_type": "code",
   "execution_count": 9,
   "id": "significant-cleaners",
   "metadata": {},
   "outputs": [
    {
     "data": {
      "text/plain": [
       "2.7242794036865234"
      ]
     },
     "execution_count": 9,
     "metadata": {},
     "output_type": "execute_result"
    }
   ],
   "source": [
    "loss_fn(y_train[:1], predictions).numpy()"
   ]
  },
  {
   "cell_type": "markdown",
   "id": "diverse-adams",
   "metadata": {},
   "source": [
    "- `optimizer`：最適化手法（[tf.keras.optimizers](https://www.tensorflow.org/api_docs/python/tf/keras/optimizers)）\n",
    "- `loss`：損失関数（[tf.keras.losses](https://www.tensorflow.org/api_docs/python/tf/keras/losses)）\n",
    "- `metrics`：学習、テストの時に評価、出力される関数（[tf.keras.metrics](https://www.tensorflow.org/api_docs/python/tf/keras/metrics)）"
   ]
  },
  {
   "cell_type": "code",
   "execution_count": 10,
   "id": "minimal-devil",
   "metadata": {
    "code_folding": []
   },
   "outputs": [],
   "source": [
    "model.compile(optimizer='adam',\n",
    "              loss=loss_fn,\n",
    "              metrics=['accuracy'])"
   ]
  },
  {
   "cell_type": "markdown",
   "id": "distinct-camera",
   "metadata": {},
   "source": [
    "`Model.fit` メソッドは損失を最小化するようにモデルのパラメータを調整する。"
   ]
  },
  {
   "cell_type": "code",
   "execution_count": 11,
   "id": "disciplinary-giant",
   "metadata": {},
   "outputs": [
    {
     "name": "stdout",
     "output_type": "stream",
     "text": [
      "Epoch 1/5\n",
      "1875/1875 [==============================] - 3s 1ms/step - loss: 0.4852 - accuracy: 0.8582\n",
      "Epoch 2/5\n",
      "1875/1875 [==============================] - 2s 1ms/step - loss: 0.1523 - accuracy: 0.9562\n",
      "Epoch 3/5\n",
      "1875/1875 [==============================] - 2s 1ms/step - loss: 0.1098 - accuracy: 0.9662\n",
      "Epoch 4/5\n",
      "1875/1875 [==============================] - 2s 1ms/step - loss: 0.0873 - accuracy: 0.9736\n",
      "Epoch 5/5\n",
      "1875/1875 [==============================] - 3s 1ms/step - loss: 0.0701 - accuracy: 0.9785\n"
     ]
    },
    {
     "data": {
      "text/plain": [
       "<tensorflow.python.keras.callbacks.History at 0x15b872a30>"
      ]
     },
     "execution_count": 11,
     "metadata": {},
     "output_type": "execute_result"
    }
   ],
   "source": [
    "model.fit(x_train, y_train, epochs=5)"
   ]
  },
  {
   "cell_type": "markdown",
   "id": "approved-asian",
   "metadata": {},
   "source": [
    "`Model.evaluate` メソッドはモデルの性能を検査する。\n",
    "\n",
    "これには通常 \"検証用データセット\" または \"テストデータセット\" を用いる。"
   ]
  },
  {
   "cell_type": "code",
   "execution_count": 12,
   "id": "sorted-range",
   "metadata": {},
   "outputs": [
    {
     "name": "stdout",
     "output_type": "stream",
     "text": [
      "313/313 - 0s - loss: 0.0775 - accuracy: 0.9761\n"
     ]
    },
    {
     "data": {
      "text/plain": [
       "[0.07748798452601768, 0.9761]"
      ]
     },
     "execution_count": 12,
     "metadata": {},
     "output_type": "execute_result"
    }
   ],
   "source": [
    "model.evaluate(x_test,  y_test, verbose=2)"
   ]
  },
  {
   "cell_type": "markdown",
   "id": "weighted-sacramento",
   "metadata": {},
   "source": [
    "この画像識別機はこのデータセットに対して約98%の正解率まで学習できる。\n",
    "\n",
    "モデルが確率を返すようにしたい場合、モデルをラップしてソフトマックス関数を適用"
   ]
  },
  {
   "cell_type": "code",
   "execution_count": 13,
   "id": "prime-cradle",
   "metadata": {},
   "outputs": [],
   "source": [
    "probability_model = tf.keras.Sequential([\n",
    "    model,\n",
    "    tf.keras.layers.Softmax()\n",
    "])"
   ]
  },
  {
   "cell_type": "code",
   "execution_count": 14,
   "id": "departmental-retrieval",
   "metadata": {},
   "outputs": [
    {
     "data": {
      "text/plain": [
       "<tf.Tensor: shape=(5, 10), dtype=float64, numpy=\n",
       "array([[7.45544713e-08, 3.86287482e-09, 1.00244100e-05, 9.73754622e-05,\n",
       "        7.73021815e-12, 2.52878693e-08, 6.47750337e-13, 9.99889761e-01,\n",
       "        3.67256859e-07, 2.36817769e-06],\n",
       "       [4.14895878e-07, 5.32810039e-03, 9.94102378e-01, 5.65695862e-04,\n",
       "        1.56106158e-15, 9.63478897e-07, 8.72950515e-07, 2.98004907e-13,\n",
       "        1.57399113e-06, 9.31440841e-16],\n",
       "       [1.12440131e-06, 9.98166822e-01, 4.39683345e-04, 8.43080414e-05,\n",
       "        3.65103101e-05, 3.63846639e-06, 1.43752165e-05, 1.17299706e-03,\n",
       "        8.01319927e-05, 4.09624783e-07],\n",
       "       [9.99523579e-01, 2.55529852e-08, 1.61948760e-04, 3.58649148e-06,\n",
       "        1.74530171e-07, 4.06585875e-05, 2.68559560e-04, 8.59589440e-07,\n",
       "        7.18570461e-08, 5.35986188e-07],\n",
       "       [2.86159605e-05, 7.47462424e-09, 8.99447755e-05, 1.94458120e-07,\n",
       "        9.86593640e-01, 5.34623196e-05, 3.96779279e-05, 2.16359194e-04,\n",
       "        6.68402505e-05, 1.29112581e-02]])>"
      ]
     },
     "execution_count": 14,
     "metadata": {},
     "output_type": "execute_result"
    }
   ],
   "source": [
    "probability_model(x_test[:5])"
   ]
  },
  {
   "cell_type": "code",
   "execution_count": null,
   "id": "integral-applicant",
   "metadata": {},
   "outputs": [],
   "source": []
  }
 ],
 "metadata": {
  "kernelspec": {
   "display_name": "Python 3",
   "language": "python",
   "name": "python3"
  },
  "language_info": {
   "codemirror_mode": {
    "name": "ipython",
    "version": 3
   },
   "file_extension": ".py",
   "mimetype": "text/x-python",
   "name": "python",
   "nbconvert_exporter": "python",
   "pygments_lexer": "ipython3",
   "version": "3.8.7"
  }
 },
 "nbformat": 4,
 "nbformat_minor": 5
}

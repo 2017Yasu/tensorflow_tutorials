{
 "cells": [
  {
   "cell_type": "code",
   "execution_count": 1,
   "id": "official-healthcare",
   "metadata": {},
   "outputs": [],
   "source": [
    "import tensorflow as tf\n",
    "import os\n",
    "\n",
    "os.environ['KMP_DUPLICATE_LIB_OK']='TRUE'"
   ]
  },
  {
   "cell_type": "markdown",
   "id": "associate-mercy",
   "metadata": {},
   "source": [
    "MNISTデータセット（手書き文字）をロード。サンプルを整数から浮動小数点数に変換。"
   ]
  },
  {
   "cell_type": "code",
   "execution_count": 2,
   "id": "automatic-absorption",
   "metadata": {},
   "outputs": [],
   "source": [
    "tf.keras.backend.set_floatx('float64')"
   ]
  },
  {
   "cell_type": "code",
   "execution_count": 3,
   "id": "graduate-commonwealth",
   "metadata": {},
   "outputs": [],
   "source": [
    "mnist = tf.keras.datasets.mnist\n",
    "(x_train, y_train), (x_test, y_test) = mnist.load_data()\n",
    "x_train, x_test = x_train / 255.0, x_test / 255.0"
   ]
  },
  {
   "cell_type": "markdown",
   "id": "downtown-german",
   "metadata": {},
   "source": [
    "層を積み重ねて`tf.keras.Sequential`モデルを構築。訓練のための**オプティマイザ**と**損失関数**を選択。"
   ]
  },
  {
   "cell_type": "markdown",
   "id": "preceding-modification",
   "metadata": {},
   "source": [
    "ReLU\n",
    "$$\n",
    "f(x) = \\left\\{\n",
    "\\begin{array}{ll}\n",
    "0 & x \\leq 0 \\\\\n",
    "x & x > 0\n",
    "\\end{array}\\right.\n",
    "$$\n",
    "\n",
    "$$\n",
    "f'(x) = \\left\\{\n",
    "\\begin{array}{ll}\n",
    "0 & x \\leq 0 \\\\\n",
    "1 & x > 0\n",
    "\\end{array}\\right.\n",
    "$$"
   ]
  },
  {
   "cell_type": "markdown",
   "id": "straight-channels",
   "metadata": {},
   "source": [
    "- 平にする層（`Flatten()`）：入力値を1次元ベクトルにする。\n",
    "- 普通の層（`Dense(units)`）：$\\vec{x_{out}} = f(W \\vec{x_{in}} + \\vec{b})$を計算する。$f(\\cdot)$は活性化関数、$W$は重み行列、$\\vec{x_{in}}$は入力ベクトル、$\\vec{b}$はバイアスベクトルを表す。`units`は出力ベクトルの値の数（ノード数）を表す。\n",
    "- ドロップアウト層（`Dropout(rate)`）：出力を与えられた確率で0にする。一部のデータが欠損していても正しく認識ができるようになる。これにより、画像の一部の局所特徴が過剰に評価されてしまうのを防ぎ、モデルのロバストさを向上させることができます。"
   ]
  },
  {
   "cell_type": "code",
   "execution_count": 4,
   "id": "complex-carnival",
   "metadata": {},
   "outputs": [],
   "source": [
    "model = tf.keras.models.Sequential([\n",
    "    tf.keras.layers.Flatten(input_shape=(28, 28)),\n",
    "    tf.keras.layers.Dense(128, activation='relu'),\n",
    "    tf.keras.layers.Dropout(0.2),\n",
    "    tf.keras.layers.Dense(10)\n",
    "])"
   ]
  },
  {
   "cell_type": "markdown",
   "id": "motivated-competition",
   "metadata": {},
   "source": [
    "`model`はそれぞれの標本についてクラスごとに**ロジット**や**対数オッズ比**と呼ばれるスコアを算出する。"
   ]
  },
  {
   "cell_type": "markdown",
   "id": "arbitrary-decimal",
   "metadata": {},
   "source": [
    "- オッズ：ある事象の起こる確率 $p$ と起こらない確率 $1 − p$ との比 $p / (1 − p)$ のこと。（成功回数）／（失敗回数）\n",
    "- ロジット：オッズの対数値"
   ]
  },
  {
   "cell_type": "code",
   "execution_count": 5,
   "id": "hazardous-newman",
   "metadata": {},
   "outputs": [
    {
     "data": {
      "text/plain": [
       "array([[ 0.20917586, -0.09210771,  0.10928842, -0.08397313, -0.55633047,\n",
       "        -0.39591155, -0.15622961, -0.18255182,  0.2419528 , -0.19919381]])"
      ]
     },
     "execution_count": 5,
     "metadata": {},
     "output_type": "execute_result"
    }
   ],
   "source": [
    "predictions = model(x_train[:1]).numpy()\n",
    "predictions"
   ]
  },
  {
   "cell_type": "markdown",
   "id": "embedded-water",
   "metadata": {},
   "source": [
    "`tf.nn.softmax`関数はクラスごとにこれらのロジットを確率に変換する。"
   ]
  },
  {
   "cell_type": "markdown",
   "id": "turkish-jimmy",
   "metadata": {},
   "source": [
    "softmax function ($i = 1, 2, \\ldots, n$)\n",
    "$$\n",
    "y_i = \\frac{e^{x_i}}{\\sum_{k=1}^{n} e^{x_k}}\n",
    "$$\n",
    "\n",
    "$$\n",
    "\\frac{\\partial y_i}{\\partial x_j} = \\left\\{\n",
    "\\begin{array}{ll}\n",
    "y_i(1-y_j) & (i = j) \\\\\n",
    "-y_j y_i & (i \\neq j)\n",
    "\\end{array}\n",
    "\\right.\n",
    "$$"
   ]
  },
  {
   "cell_type": "code",
   "execution_count": 6,
   "id": "protecting-austria",
   "metadata": {},
   "outputs": [
    {
     "data": {
      "text/plain": [
       "array([[0.13387419, 0.09904922, 0.12114801, 0.09985823, 0.06226467,\n",
       "        0.07309888, 0.09289734, 0.09048398, 0.13833488, 0.0889906 ]])"
      ]
     },
     "execution_count": 6,
     "metadata": {},
     "output_type": "execute_result"
    }
   ],
   "source": [
    "tf.nn.softmax(predictions).numpy()"
   ]
  },
  {
   "cell_type": "markdown",
   "id": "average-monday",
   "metadata": {},
   "source": [
    "損失関数（出力値と正解値との差（距離））`losses.SparseCategoricalCrossentropy`：\n",
    "\n",
    "ラベルの種類が二つ以上ある場合に使う交差エントロピー関数（教師ラベルは整数値とする）。推定値は各ラベルに当てはまりうる確率を示したベクトル。\n",
    "$$\n",
    "H(p, q) = -\\sum_{x} p(x) log(q(x))\n",
    "$$\n",
    "$p$は真の確率分布、$q$は推定した確率分布。`y_true`は標本数分のラベルのリスト、`y_pred`は(標本数)$\\times$(ラベルの種類数)分の確率分布行列。それぞれの標本についてクラスごとに損失のスカラーを出力。"
   ]
  },
  {
   "cell_type": "code",
   "execution_count": 7,
   "id": "temporal-color",
   "metadata": {},
   "outputs": [],
   "source": [
    "loss_fn = tf.keras.losses.SparseCategoricalCrossentropy(from_logits=True)"
   ]
  },
  {
   "cell_type": "markdown",
   "id": "little-hearts",
   "metadata": {},
   "source": [
    "この損失は、クラスが正しい確率の対数をとって符号を反転させたもの。この値はモデルがこのクラスが正しいと確信している場合 0 。\n",
    "\n",
    "この訓練されていないモデルはランダムに近い確率 (それぞれのクラスについて 1/10) を出力、最初の損失は `-tf.log(1/10) ~= 2.3` に近い値になるはず。"
   ]
  },
  {
   "cell_type": "code",
   "execution_count": 8,
   "id": "drawn-shopping",
   "metadata": {},
   "outputs": [
    {
     "data": {
      "text/plain": [
       "2.6159422397613525"
      ]
     },
     "execution_count": 8,
     "metadata": {},
     "output_type": "execute_result"
    }
   ],
   "source": [
    "loss_fn(y_train[:1], predictions).numpy()"
   ]
  },
  {
   "cell_type": "markdown",
   "id": "younger-palmer",
   "metadata": {},
   "source": [
    "- `optimizer`：最適化手法（[tf.keras.optimizers](https://www.tensorflow.org/api_docs/python/tf/keras/optimizers)）\n",
    "- `loss`：損失関数（[tf.keras.losses](https://www.tensorflow.org/api_docs/python/tf/keras/losses)）\n",
    "- `metrics`：学習、テストの時に評価、出力される関数（[tf.keras.metrics](https://www.tensorflow.org/api_docs/python/tf/keras/metrics)）"
   ]
  },
  {
   "cell_type": "code",
   "execution_count": 9,
   "id": "emerging-metabolism",
   "metadata": {
    "code_folding": []
   },
   "outputs": [],
   "source": [
    "model.compile(optimizer='adam',\n",
    "              loss=loss_fn,\n",
    "              metrics=['accuracy'])"
   ]
  },
  {
   "cell_type": "markdown",
   "id": "forbidden-correction",
   "metadata": {},
   "source": [
    "`Model.fit` メソッドは損失を最小化するようにモデルのパラメータを調整する。"
   ]
  },
  {
   "cell_type": "code",
   "execution_count": 10,
   "id": "solved-estate",
   "metadata": {},
   "outputs": [
    {
     "name": "stdout",
     "output_type": "stream",
     "text": [
      "Train on 60000 samples\n",
      "Epoch 1/5\n",
      "60000/60000 [==============================] - 12s 199us/sample - loss: 0.2896 - accuracy: 0.9158\n",
      "Epoch 2/5\n",
      "60000/60000 [==============================] - 13s 216us/sample - loss: 0.1380 - accuracy: 0.9593\n",
      "Epoch 3/5\n",
      "60000/60000 [==============================] - 14s 239us/sample - loss: 0.1042 - accuracy: 0.9690\n",
      "Epoch 4/5\n",
      "60000/60000 [==============================] - 15s 253us/sample - loss: 0.0860 - accuracy: 0.9747\n",
      "Epoch 5/5\n",
      "60000/60000 [==============================] - 16s 265us/sample - loss: 0.0734 - accuracy: 0.9769\n"
     ]
    },
    {
     "data": {
      "text/plain": [
       "<tensorflow.python.keras.callbacks.History at 0x7fe7a74afa90>"
      ]
     },
     "execution_count": 10,
     "metadata": {},
     "output_type": "execute_result"
    }
   ],
   "source": [
    "model.fit(x_train, y_train, epochs=5)"
   ]
  },
  {
   "cell_type": "markdown",
   "id": "rural-tackle",
   "metadata": {},
   "source": [
    "`Model.evaluate` メソッドはモデルの性能を検査する。\n",
    "\n",
    "これには通常 \"検証用データセット\" または \"テストデータセット\" を用いる。"
   ]
  },
  {
   "cell_type": "code",
   "execution_count": 11,
   "id": "brave-distinction",
   "metadata": {},
   "outputs": [
    {
     "name": "stdout",
     "output_type": "stream",
     "text": [
      "10000/1 - 1s - loss: 0.0361 - accuracy: 0.9781\n"
     ]
    },
    {
     "data": {
      "text/plain": [
       "[0.06953047238477622, 0.9781]"
      ]
     },
     "execution_count": 11,
     "metadata": {},
     "output_type": "execute_result"
    }
   ],
   "source": [
    "model.evaluate(x_test,  y_test, verbose=2)"
   ]
  },
  {
   "cell_type": "markdown",
   "id": "understanding-point",
   "metadata": {},
   "source": [
    "この画像識別機はこのデータセットに対して約98%の正解率まで学習できる。\n",
    "\n",
    "モデルが確率を返すようにしたい場合、モデルをラップしてソフトマックス関数を適用"
   ]
  },
  {
   "cell_type": "code",
   "execution_count": 12,
   "id": "selective-component",
   "metadata": {},
   "outputs": [],
   "source": [
    "probability_model = tf.keras.Sequential([\n",
    "    model,\n",
    "    tf.keras.layers.Softmax()\n",
    "])"
   ]
  },
  {
   "cell_type": "code",
   "execution_count": 13,
   "id": "legitimate-boards",
   "metadata": {},
   "outputs": [
    {
     "data": {
      "text/plain": [
       "<tf.Tensor: id=30042, shape=(5, 10), dtype=float64, numpy=\n",
       "array([[6.71886480e-07, 7.06840195e-07, 7.35471243e-06, 4.55328194e-04,\n",
       "        1.20977322e-10, 2.16804095e-06, 2.18894875e-12, 9.99513350e-01,\n",
       "        1.65361123e-05, 3.88428014e-06],\n",
       "       [5.35206659e-08, 7.46668039e-05, 9.99813001e-01, 1.11330610e-04,\n",
       "        2.77558231e-15, 5.21970899e-07, 1.21283843e-07, 2.24176201e-12,\n",
       "        3.05130063e-07, 7.46791547e-12],\n",
       "       [4.46959457e-08, 9.98602108e-01, 2.58507705e-04, 3.35393254e-06,\n",
       "        4.56407565e-05, 6.47323332e-06, 6.64008519e-06, 9.66182402e-04,\n",
       "        1.10436389e-04, 6.12367030e-07],\n",
       "       [9.99785974e-01, 6.01260411e-09, 9.30764397e-05, 2.72538218e-07,\n",
       "        6.74453341e-07, 4.07103096e-06, 1.85070835e-05, 9.29116484e-05,\n",
       "        1.76070800e-07, 4.33085925e-06],\n",
       "       [5.19838257e-06, 1.91286441e-09, 3.66569739e-06, 1.99544060e-07,\n",
       "        9.97828008e-01, 6.47876991e-08, 1.31313702e-05, 1.00440136e-05,\n",
       "        4.85857843e-06, 2.13482761e-03]])>"
      ]
     },
     "execution_count": 13,
     "metadata": {},
     "output_type": "execute_result"
    }
   ],
   "source": [
    "probability_model(x_test[:5])"
   ]
  },
  {
   "cell_type": "code",
   "execution_count": null,
   "id": "wooden-thong",
   "metadata": {},
   "outputs": [],
   "source": []
  }
 ],
 "metadata": {
  "kernelspec": {
   "display_name": "Environment (conda_tf2)",
   "language": "python",
   "name": "conda_tf2"
  },
  "language_info": {
   "codemirror_mode": {
    "name": "ipython",
    "version": 3
   },
   "file_extension": ".py",
   "mimetype": "text/x-python",
   "name": "python",
   "nbconvert_exporter": "python",
   "pygments_lexer": "ipython3",
   "version": "3.7.9"
  }
 },
 "nbformat": 4,
 "nbformat_minor": 5
}
